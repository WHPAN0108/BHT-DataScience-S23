{
 "cells": [
  {
   "cell_type": "code",
   "execution_count": 1,
   "metadata": {},
   "outputs": [],
   "source": [
    "def count_letter(a):\n",
    "    if not isinstance(a, str):\n",
    "        raise TypeError(\"Input should be a string\")\n",
    "\n",
    "    a = a.lower()\n",
    "    sentence_list = list(a)\n",
    "    new_list = [x for x in sentence_list if x.isalpha()]\n",
    "\n",
    "    return {e: new_list.count(e) for e in set(new_list)}"
   ]
  },
  {
   "cell_type": "code",
   "execution_count": 2,
   "metadata": {},
   "outputs": [],
   "source": [
    "def count_letter2(sentence):\n",
    "    # Check if input is a string\n",
    "    if not isinstance(sentence, str):\n",
    "        raise TypeError(\"Input should be a string\")\n",
    "\n",
    "    # Convert to lowercase and remove spaces\n",
    "    sentence = sentence.lower().replace(\" \", \"\")\n",
    "\n",
    "    # Create dictionary to store letter count\n",
    "    letter_count = {}\n",
    "\n",
    "    # Loop through each character in the sentence\n",
    "    for char in sentence:\n",
    "        # If character is not a letter, skip to the next one\n",
    "        if not char.isalpha():\n",
    "            continue\n",
    "\n",
    "        # If character is a letter, update count in dictionary\n",
    "        if char in letter_count:\n",
    "            letter_count[char] += 1\n",
    "        else:\n",
    "            letter_count[char] = 1\n",
    "\n",
    "    return letter_count"
   ]
  },
  {
   "cell_type": "code",
   "execution_count": 25,
   "metadata": {},
   "outputs": [],
   "source": [
    "a = \"Lorem ipsßum dolor sit amet, 123 consectetur adäipiscing elit. Sed dapibus, 45.6 lorem quis cursus trisütique, 7.8 enim tortor aliquet metus, id gravida ex felis non risus. Quisque in orci nec mi consequat tincidunt. Fusce posuere purus euismod, posuere lorem nec, tempus elit. Sed ultrices risus at lacinia ultricies. Sed tincidunt turpis quis libero tincidunt, vitae efficitur dolor scelerisque. Pellentesque vel tellus tellus. Nam quis tellus euismod, 34 pharetra mi eget, efficitur orci. Etiam in lobortis velit. Ut bibendum justo vel mauris semper aliquam. In eleifend 2,3 nulla sed ipsum facilisis, ac consectetur ex ullamcorper.\"\n"
   ]
  },
  {
   "cell_type": "code",
   "execution_count": 26,
   "metadata": {},
   "outputs": [],
   "source": [
    "b = \"Lorem ipsum dolor sit amet, consectetur adipiscing elit. Sed äößü dapibus, lorem quis cursus tristique, enim tortor aliquet metus, id gravida ex felis non risus. Quisque in orci nec mi consequat tincidunt. Fusce posuere purus euismod, posuere lorem nec, tempus elit. Sed ultrices risus at lacinia ultricies. Sed tincidunt turpis quis libero tincidunt, vitae efficitur dolor scelerisque. Pellentesque vel tellus tellus. Nam quis tellus euismod, pharetra mi eget, efficitur orci. Etiam in lobortis velit. Ut bibendum justo vel mauris semper aliquam. In eleifend 2,3 nulla sed ipsum facilisis, ac consectetur ex ullamcorper. Fusce dapibus neque sed odio vulputate, eget consequat lacus pulvinar. Integer at consequat est, id hendrerit lacus. Duis consectetur lorem sit amet mauris dapibus, nec malesuada neque aliquet. Nunc ac justo vestibulum, posuere nunc vel, condimentum tellus. Sed suscipit orci eget sem placerat malesuada. Vestibulum aliquet ipsum vitae tortor dictum, eget consequat augue varius. Aenean vitae eros a magna tempor condimentum in ut quam. In tempor consequat justo, eget suscipit velit malesuada vel. Sed faucibus consectetur justo id tempor. Sed euismod nisl ac mi pretium, ut euismod sem facilisis. Morbi ac erat enim. Donec et dolor lacinia, lobortis erat sit amet, imperdiet velit. Vestibulum ante ipsum primis in faucibus orci luctus et ultrices posuere cubilia Curae; Morbi vitae risus massa. Donec commodo commodo ex, at finibus mauris commodo vel. In vitae nibh sit amet quam condimentum dictum. Donec eget arcu enim. Nam pharetra nunc et nisi aliquam ullamcorper. Aenean ullamcorper luctus elit eu imperdiet. Donec in nisl at nisi semper consequat sit amet eget turpis.\""
   ]
  },
  {
   "cell_type": "code",
   "execution_count": 31,
   "metadata": {},
   "outputs": [
    {
     "name": "stdout",
     "output_type": "stream",
     "text": [
      "CPU times: user 3 µs, sys: 1 µs, total: 4 µs\n",
      "Wall time: 9.3 µs\n"
     ]
    },
    {
     "data": {
      "text/plain": [
       "{'l': 33,\n",
       " 'r': 33,\n",
       " 'm': 20,\n",
       " 'e': 63,\n",
       " 'j': 1,\n",
       " 'p': 13,\n",
       " 'b': 5,\n",
       " 'x': 2,\n",
       " 'f': 8,\n",
       " 'h': 1,\n",
       " 'ß': 1,\n",
       " 'u': 46,\n",
       " 'd': 17,\n",
       " 's': 47,\n",
       " 't': 40,\n",
       " 'q': 11,\n",
       " 'n': 24,\n",
       " 'ü': 1,\n",
       " 'o': 24,\n",
       " 'i': 60,\n",
       " 'ä': 1,\n",
       " 'v': 5,\n",
       " 'c': 24,\n",
       " 'a': 22,\n",
       " 'g': 3}"
      ]
     },
     "execution_count": 31,
     "metadata": {},
     "output_type": "execute_result"
    }
   ],
   "source": [
    "%time\n",
    "count_letter(a)\n"
   ]
  },
  {
   "cell_type": "code",
   "execution_count": 36,
   "metadata": {},
   "outputs": [
    {
     "name": "stdout",
     "output_type": "stream",
     "text": [
      "CPU times: user 5 µs, sys: 1 µs, total: 6 µs\n",
      "Wall time: 11.4 µs\n"
     ]
    },
    {
     "data": {
      "text/plain": [
       "{'l': 33,\n",
       " 'o': 24,\n",
       " 'r': 33,\n",
       " 'e': 63,\n",
       " 'm': 20,\n",
       " 'i': 60,\n",
       " 'p': 13,\n",
       " 's': 47,\n",
       " 'ß': 1,\n",
       " 'u': 46,\n",
       " 'd': 17,\n",
       " 't': 40,\n",
       " 'a': 22,\n",
       " 'c': 24,\n",
       " 'n': 24,\n",
       " 'ä': 1,\n",
       " 'g': 3,\n",
       " 'b': 5,\n",
       " 'q': 11,\n",
       " 'ü': 1,\n",
       " 'v': 5,\n",
       " 'x': 2,\n",
       " 'f': 8,\n",
       " 'h': 1,\n",
       " 'j': 1}"
      ]
     },
     "execution_count": 36,
     "metadata": {},
     "output_type": "execute_result"
    }
   ],
   "source": [
    "%time\n",
    "count_letter2(a)"
   ]
  },
  {
   "cell_type": "code",
   "execution_count": 39,
   "metadata": {},
   "outputs": [
    {
     "name": "stdout",
     "output_type": "stream",
     "text": [
      "CPU times: user 8 µs, sys: 1 µs, total: 9 µs\n",
      "Wall time: 18.4 µs\n"
     ]
    },
    {
     "data": {
      "text/plain": [
       "{'l': 70,\n",
       " 'r': 76,\n",
       " 'm': 74,\n",
       " 'e': 171,\n",
       " 'j': 4,\n",
       " 'p': 36,\n",
       " 'b': 18,\n",
       " 'x': 3,\n",
       " 'f': 13,\n",
       " 'ö': 1,\n",
       " 'h': 4,\n",
       " 'u': 124,\n",
       " 'ß': 1,\n",
       " 'd': 48,\n",
       " 's': 115,\n",
       " 't': 117,\n",
       " 'q': 23,\n",
       " 'n': 74,\n",
       " 'ü': 1,\n",
       " 'o': 73,\n",
       " 'i': 143,\n",
       " 'ä': 1,\n",
       " 'v': 20,\n",
       " 'c': 72,\n",
       " 'a': 93,\n",
       " 'g': 12}"
      ]
     },
     "execution_count": 39,
     "metadata": {},
     "output_type": "execute_result"
    }
   ],
   "source": [
    "%time\n",
    "count_letter(b)"
   ]
  },
  {
   "cell_type": "code",
   "execution_count": 43,
   "metadata": {},
   "outputs": [
    {
     "name": "stdout",
     "output_type": "stream",
     "text": [
      "CPU times: user 7 µs, sys: 1 µs, total: 8 µs\n",
      "Wall time: 16.7 µs\n"
     ]
    },
    {
     "data": {
      "text/plain": [
       "{'l': 70,\n",
       " 'o': 73,\n",
       " 'r': 76,\n",
       " 'e': 171,\n",
       " 'm': 74,\n",
       " 'i': 143,\n",
       " 'p': 36,\n",
       " 's': 115,\n",
       " 'u': 124,\n",
       " 'd': 48,\n",
       " 't': 117,\n",
       " 'a': 93,\n",
       " 'c': 72,\n",
       " 'n': 74,\n",
       " 'g': 12,\n",
       " 'ä': 1,\n",
       " 'ö': 1,\n",
       " 'ß': 1,\n",
       " 'ü': 1,\n",
       " 'b': 18,\n",
       " 'q': 23,\n",
       " 'v': 20,\n",
       " 'x': 3,\n",
       " 'f': 13,\n",
       " 'h': 4,\n",
       " 'j': 4}"
      ]
     },
     "execution_count": 43,
     "metadata": {},
     "output_type": "execute_result"
    }
   ],
   "source": [
    "%time\n",
    "count_letter2(b)"
   ]
  },
  {
   "cell_type": "code",
   "execution_count": 5,
   "metadata": {},
   "outputs": [
    {
     "name": "stdout",
     "output_type": "stream",
     "text": [
      "[5, 4, 3, 2, 1]\n",
      "[5, 4]\n"
     ]
    }
   ],
   "source": [
    "numbers = [1,2,3,4,5]\n",
    "\n",
    "print(numbers[::-1])\n",
    "print(numbers[4:2:-1])"
   ]
  }
 ],
 "metadata": {
  "kernelspec": {
   "display_name": ".venv",
   "language": "python",
   "name": "python3"
  },
  "language_info": {
   "codemirror_mode": {
    "name": "ipython",
    "version": 3
   },
   "file_extension": ".py",
   "mimetype": "text/x-python",
   "name": "python",
   "nbconvert_exporter": "python",
   "pygments_lexer": "ipython3",
   "version": "3.8.10"
  },
  "orig_nbformat": 4
 },
 "nbformat": 4,
 "nbformat_minor": 2
}
