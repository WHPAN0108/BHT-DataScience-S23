{
 "cells": [
  {
   "cell_type": "code",
   "execution_count": 2,
   "metadata": {},
   "outputs": [
    {
     "name": "stdout",
     "output_type": "stream",
     "text": [
      "  0.230039 seconds (390.50 k allocations: 10.351 MiB)\n",
      "\u001b[1m3×14 DataFrame\u001b[0m\n",
      "\u001b[1m Row \u001b[0m│\u001b[1m Series_reference \u001b[0m\u001b[1m Period  \u001b[0m\u001b[1m Data_value \u001b[0m\u001b[1m Suppressed \u001b[0m\u001b[1m STATUS  \u001b[0m\u001b[1m UNITS   \u001b[0m\u001b[1m Magnitude \u001b[0m\u001b[1m Subject                        \u001b[0m\u001b[1m Group                             \u001b[0m\u001b[1m Series_title_1           \u001b[0m\u001b[1m Series_title_2       \u001b[0m\u001b[1m Series_title_3 \u001b[0m\u001b[1m Series_title_4 \u001b[0m\u001b[1m Series_title_5 \u001b[0m\n",
      "     │\u001b[90m String15         \u001b[0m\u001b[90m Float64 \u001b[0m\u001b[90m Float64?   \u001b[0m\u001b[90m String1?   \u001b[0m\u001b[90m String1 \u001b[0m\u001b[90m String7 \u001b[0m\u001b[90m Int64     \u001b[0m\u001b[90m String31                       \u001b[0m\u001b[90m String                            \u001b[0m\u001b[90m String                   \u001b[0m\u001b[90m String               \u001b[0m\u001b[90m String15       \u001b[0m\u001b[90m String31       \u001b[0m\u001b[90m Missing        \u001b[0m\n",
      "─────┼───────────────────────────────────────────────────────────────────────────────────────────────────────────────────────────────────────────────────────────────────────────────────────────────────────────────────────────────────────────────────\n",
      "   1 │ BDCQ.SF1AA2CA     2016.06     1116.39 \u001b[90m missing    \u001b[0m F        Dollars          6  Business Data Collection - BDC  Industry by financial variable (…  Sales (operating income)  Forestry and Logging  Current prices  Unadjusted     \u001b[90m        missing \u001b[0m\n",
      "   2 │ BDCQ.SF1AA2CA     2016.09     1070.87 \u001b[90m missing    \u001b[0m F        Dollars          6  Business Data Collection - BDC  Industry by financial variable (…  Sales (operating income)  Forestry and Logging  Current prices  Unadjusted     \u001b[90m        missing \u001b[0m\n",
      "   3 │ BDCQ.SF1AA2CA     2016.12     1054.41 \u001b[90m missing    \u001b[0m F        Dollars          6  Business Data Collection - BDC  Industry by financial variable (…  Sales (operating income)  Forestry and Logging  Current prices  Unadjusted     \u001b[90m        missing \u001b[0m\n"
     ]
    }
   ],
   "source": [
    "using CSV\n",
    "using DataFrames\n",
    "@time df = DataFrame(CSV.File(\"data/Business.csv\"))\n",
    "println(first(df, 3))"
   ]
  },
  {
   "cell_type": "code",
   "execution_count": 3,
   "metadata": {},
   "outputs": [
    {
     "name": "stdout",
     "output_type": "stream",
     "text": [
      "  9.416262 seconds (5.44 M allocations: 205.221 MiB, 3.32% gc time, 2.55% compilation time)\n",
      "\u001b[1m3×18 DataFrame\u001b[0m\n",
      "\u001b[1m Row \u001b[0m│\u001b[1m policyID \u001b[0m\u001b[1m statecode \u001b[0m\u001b[1m county      \u001b[0m\u001b[1m eq_site_limit  \u001b[0m\u001b[1m hu_site_limit  \u001b[0m\u001b[1m fl_site_limit  \u001b[0m\u001b[1m fr_site_limit  \u001b[0m\u001b[1m tiv_2011       \u001b[0m\u001b[1m tiv_2012  \u001b[0m\u001b[1m eq_site_deductible \u001b[0m\u001b[1m hu_site_deductible \u001b[0m\u001b[1m fl_site_deductible \u001b[0m\u001b[1m fr_site_deductible \u001b[0m\u001b[1m point_latitude \u001b[0m\u001b[1m point_longitude \u001b[0m\u001b[1m line        \u001b[0m\u001b[1m construction \u001b[0m\u001b[1m point_granularity \u001b[0m\n",
      "     │\u001b[90m Int64    \u001b[0m\u001b[90m String3   \u001b[0m\u001b[90m String31    \u001b[0m\u001b[90m Float64        \u001b[0m\u001b[90m Float64        \u001b[0m\u001b[90m Float64        \u001b[0m\u001b[90m Float64        \u001b[0m\u001b[90m Float64        \u001b[0m\u001b[90m Float64   \u001b[0m\u001b[90m Float64            \u001b[0m\u001b[90m Float64            \u001b[0m\u001b[90m Float64            \u001b[0m\u001b[90m Int64              \u001b[0m\u001b[90m Float64        \u001b[0m\u001b[90m Float64         \u001b[0m\u001b[90m String15    \u001b[0m\u001b[90m String31     \u001b[0m\u001b[90m Int64             \u001b[0m\n",
      "─────┼────────────────────────────────────────────────────────────────────────────────────────────────────────────────────────────────────────────────────────────────────────────────────────────────────────────────────────────────────────────────────────────────────────────────────────────\n",
      "   1 │   119736  FL         CLAY COUNTY  498960.0        498960.0        498960.0        498960.0        498960.0        7.92149e5                 0.0              9979.2                 0.0                   0         30.1023         -81.7118  Residential  Masonry                       1\n",
      "   2 │   448094  FL         CLAY COUNTY       1.32238e6       1.32238e6       1.32238e6       1.32238e6       1.32238e6  1.43816e6                 0.0                 0.0                 0.0                   0         30.0639         -81.7077  Residential  Masonry                       3\n",
      "   3 │   206893  FL         CLAY COUNTY       1.90724e5       1.90724e5       1.90724e5       1.90724e5       1.90724e5  1.92477e5                 0.0                 0.0                 0.0                   0         30.0896         -81.7005  Residential  Wood                          1\n"
     ]
    }
   ],
   "source": [
    "\n",
    "@time df = DataFrame(CSV.File(\"data/FL_insurance_sample.csv\"))\n",
    "println(first(df, 3))"
   ]
  },
  {
   "cell_type": "code",
   "execution_count": 4,
   "metadata": {},
   "outputs": [
    {
     "name": "stdout",
     "output_type": "stream",
     "text": [
      " 24.526950 seconds (71.64 M allocations: 1.640 GiB, 14.11% gc time, 16.79% compilation time)\n",
      "\u001b[1m3×7 DataFrame\u001b[0m\n",
      "\u001b[1m Row \u001b[0m│\u001b[1m time_ref \u001b[0m\u001b[1m account \u001b[0m\u001b[1m code    \u001b[0m\u001b[1m country_code \u001b[0m\u001b[1m product_type \u001b[0m\u001b[1m value          \u001b[0m\u001b[1m status  \u001b[0m\n",
      "     │\u001b[90m Int64    \u001b[0m\u001b[90m String7 \u001b[0m\u001b[90m String7 \u001b[0m\u001b[90m String31     \u001b[0m\u001b[90m String15     \u001b[0m\u001b[90m Float64?       \u001b[0m\u001b[90m String1 \u001b[0m\n",
      "─────┼─────────────────────────────────────────────────────────────────────────────────\n",
      "   1 │   202212  Exports  00       AD            Goods          28366.0        F\n",
      "   2 │   202212  Exports  00       AE            Goods              2.86175e8  F\n",
      "   3 │   202212  Exports  00       AG            Goods         443994.0        F\n"
     ]
    }
   ],
   "source": [
    "@time df = DataFrame(CSV.File(\"data/output_csv_full.csv\"))\n",
    "println(first(df, 3))"
   ]
  }
 ],
 "metadata": {
  "kernelspec": {
   "display_name": "Julia 1.6.7",
   "language": "julia",
   "name": "julia-1.6"
  },
  "language_info": {
   "file_extension": ".jl",
   "mimetype": "application/julia",
   "name": "julia",
   "version": "1.6.7"
  },
  "orig_nbformat": 4
 },
 "nbformat": 4,
 "nbformat_minor": 2
}
