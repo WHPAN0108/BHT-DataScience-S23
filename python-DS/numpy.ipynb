{
 "cells": [
  {
   "attachments": {},
   "cell_type": "markdown",
   "metadata": {},
   "source": [
    "Difference between list and np array"
   ]
  },
  {
   "attachments": {},
   "cell_type": "markdown",
   "metadata": {},
   "source": [
    "Speed : numpy is faster"
   ]
  },
  {
   "cell_type": "code",
   "execution_count": 12,
   "metadata": {},
   "outputs": [
    {
     "name": "stdout",
     "output_type": "stream",
     "text": [
      "Computing the mean using NumPy: 0.5000546226026348\n",
      "Computation time: 0.0012984275817871094\n",
      "Computing the mean using lists: 0.5000546226026348\n",
      "Computation time: 0.05457711219787598\n"
     ]
    }
   ],
   "source": [
    "#Random numpy array\n",
    "import numpy as np\n",
    "from time import time\n",
    "\n",
    "numpy_array = np.random.rand(1000000)\n",
    "list_conv = list(numpy_array)#Start timing NumPy compuation\n",
    "\n",
    "start1 = time()\n",
    "#Compute the mean using NumPy\n",
    "numpy_mean = np.mean(numpy_array)\n",
    "print(f\"Computing the mean using NumPy: {numpy_mean}\")\n",
    "time1 = time() - start1\n",
    "print(f\"Computation time: {time1}\")#Start timing list computation\n",
    "\n",
    "\n",
    "start2 = time()\n",
    "#Compute the mean using lists\n",
    "list_mean = np.mean(list_conv)\n",
    "print(f\"Computing the mean using lists: {list_mean}\")\n",
    "time2 = time() - start2\n",
    "print(f\"Computation time: {time2}\")"
   ]
  },
  {
   "attachments": {},
   "cell_type": "markdown",
   "metadata": {},
   "source": [
    "Numpy takes less memory"
   ]
  },
  {
   "cell_type": "code",
   "execution_count": 6,
   "metadata": {},
   "outputs": [
    {
     "name": "stdout",
     "output_type": "stream",
     "text": [
      "Size of each element of list in bytes:  48\n",
      "Size of the whole list in bytes:  48000\n",
      "Size of each element of the Numpy array in bytes:  8\n",
      "Size of the whole Numpy array in bytes:  8000\n"
     ]
    }
   ],
   "source": [
    "# importing numpy package\n",
    "import numpy as np\n",
    "\n",
    "# importing system module\n",
    "import sys\n",
    "\n",
    "# declaring a list of 1000 elements\n",
    "S= range(1000)\n",
    "\n",
    "# printing size of each element of the list\n",
    "print(\"Size of each element of list in bytes: \",sys.getsizeof(S))\n",
    "\n",
    "# printing size of the whole list\n",
    "print(\"Size of the whole list in bytes: \",sys.getsizeof(S)*len(S))\n",
    "\n",
    "# declaring a Numpy array of 1000 elements\n",
    "D= np.arange(1000)\n",
    "\n",
    "# printing size of each element of the Numpy array\n",
    "print(\"Size of each element of the Numpy array in bytes: \",D.itemsize)\n",
    "\n",
    "# printing size of the whole Numpy array\n",
    "print(\"Size of the whole Numpy array in bytes: \",D.size*D.itemsize)\n"
   ]
  },
  {
   "attachments": {},
   "cell_type": "markdown",
   "metadata": {},
   "source": [
    "Numpy is more intuitive "
   ]
  },
  {
   "cell_type": "code",
   "execution_count": 1,
   "metadata": {},
   "outputs": [],
   "source": [
    "import numpy as np\n",
    "a = [1,2,3,3,5,4]\n",
    "a_np = np.array([1,2,3,3,5,4])"
   ]
  },
  {
   "cell_type": "code",
   "execution_count": 2,
   "metadata": {},
   "outputs": [
    {
     "name": "stdout",
     "output_type": "stream",
     "text": [
      "[1, 2, 3, 3, 5, 4, 1, 2, 3, 3, 5, 4]\n",
      "[ 2  4  6  6 10  8]\n"
     ]
    }
   ],
   "source": [
    "# multiply\n",
    "print(2*a)\n",
    "print(2*a_np)\n",
    "\n"
   ]
  },
  {
   "cell_type": "code",
   "execution_count": 8,
   "metadata": {},
   "outputs": [
    {
     "name": "stdout",
     "output_type": "stream",
     "text": [
      "[1, 2, 3, 4, 5]\n",
      "[1 2 3 4 5]\n"
     ]
    }
   ],
   "source": [
    "\n",
    "unique_list = list(set(a))\n",
    "print(unique_list)  \n",
    "unique_array = np.unique(a_np)\n",
    "print(unique_array)\n"
   ]
  },
  {
   "cell_type": "code",
   "execution_count": 11,
   "metadata": {},
   "outputs": [
    {
     "ename": "ModuleNotFoundError",
     "evalue": "No module named 'scipy'",
     "output_type": "error",
     "traceback": [
      "\u001b[0;31m---------------------------------------------------------------------------\u001b[0m",
      "\u001b[0;31mModuleNotFoundError\u001b[0m                       Traceback (most recent call last)",
      "Cell \u001b[0;32mIn[11], line 1\u001b[0m\n\u001b[0;32m----> 1\u001b[0m \u001b[39mimport\u001b[39;00m \u001b[39mscipy\u001b[39;00m\n",
      "\u001b[0;31mModuleNotFoundError\u001b[0m: No module named 'scipy'"
     ]
    }
   ],
   "source": [
    "import scipy"
   ]
  }
 ],
 "metadata": {
  "kernelspec": {
   "display_name": ".venv",
   "language": "python",
   "name": "python3"
  },
  "language_info": {
   "codemirror_mode": {
    "name": "ipython",
    "version": 3
   },
   "file_extension": ".py",
   "mimetype": "text/x-python",
   "name": "python",
   "nbconvert_exporter": "python",
   "pygments_lexer": "ipython3",
   "version": "3.10.10"
  },
  "orig_nbformat": 4
 },
 "nbformat": 4,
 "nbformat_minor": 2
}
