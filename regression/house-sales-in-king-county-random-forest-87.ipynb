{
 "cells": [
  {
   "cell_type": "markdown",
   "id": "37184fd0",
   "metadata": {
    "papermill": {
     "duration": 0.019879,
     "end_time": "2023-06-01T21:41:56.028424",
     "exception": false,
     "start_time": "2023-06-01T21:41:56.008545",
     "status": "completed"
    },
    "tags": []
   },
   "source": [
    "# 1. **Import Libraries**"
   ]
  },
  {
   "cell_type": "code",
   "execution_count": 1,
   "id": "211aad0c",
   "metadata": {
    "execution": {
     "iopub.execute_input": "2023-06-01T21:41:56.067982Z",
     "iopub.status.busy": "2023-06-01T21:41:56.067500Z",
     "iopub.status.idle": "2023-06-01T21:41:57.567324Z",
     "shell.execute_reply": "2023-06-01T21:41:57.566020Z"
    },
    "id": "Ze5wDkO36n5b",
    "papermill": {
     "duration": 1.522794,
     "end_time": "2023-06-01T21:41:57.570368",
     "exception": false,
     "start_time": "2023-06-01T21:41:56.047574",
     "status": "completed"
    },
    "tags": []
   },
   "outputs": [],
   "source": [
    "import pandas as pd\n",
    "import numpy as np\n",
    "import matplotlib.pyplot as plt\n",
    "import seaborn as sns"
   ]
  },
  {
   "cell_type": "markdown",
   "id": "38cd5f09",
   "metadata": {
    "papermill": {
     "duration": 0.018431,
     "end_time": "2023-06-01T21:41:57.607186",
     "exception": false,
     "start_time": "2023-06-01T21:41:57.588755",
     "status": "completed"
    },
    "tags": []
   },
   "source": [
    "# 2. **Load Data**"
   ]
  },
  {
   "cell_type": "code",
   "execution_count": 2,
   "id": "44dc240e",
   "metadata": {
    "execution": {
     "iopub.execute_input": "2023-06-01T21:41:57.646631Z",
     "iopub.status.busy": "2023-06-01T21:41:57.646175Z",
     "iopub.status.idle": "2023-06-01T21:41:57.777703Z",
     "shell.execute_reply": "2023-06-01T21:41:57.776377Z"
    },
    "id": "VrtUmFgV8Pi3",
    "papermill": {
     "duration": 0.154792,
     "end_time": "2023-06-01T21:41:57.780669",
     "exception": false,
     "start_time": "2023-06-01T21:41:57.625877",
     "status": "completed"
    },
    "tags": []
   },
   "outputs": [],
   "source": [
    " df=pd.read_csv(\"/kaggle/input/housesalesprediction/kc_house_data.csv\")"
   ]
  },
  {
   "cell_type": "code",
   "execution_count": 3,
   "id": "403c587f",
   "metadata": {
    "execution": {
     "iopub.execute_input": "2023-06-01T21:41:57.819655Z",
     "iopub.status.busy": "2023-06-01T21:41:57.819259Z",
     "iopub.status.idle": "2023-06-01T21:41:57.876539Z",
     "shell.execute_reply": "2023-06-01T21:41:57.875173Z"
    },
    "id": "wo9_DS_u8WUj",
    "outputId": "448c121b-9938-41ba-ca7f-17ae438a1786",
    "papermill": {
     "duration": 0.080378,
     "end_time": "2023-06-01T21:41:57.879490",
     "exception": false,
     "start_time": "2023-06-01T21:41:57.799112",
     "status": "completed"
    },
    "tags": []
   },
   "outputs": [
    {
     "data": {
      "text/html": [
       "<div>\n",
       "<style scoped>\n",
       "    .dataframe tbody tr th:only-of-type {\n",
       "        vertical-align: middle;\n",
       "    }\n",
       "\n",
       "    .dataframe tbody tr th {\n",
       "        vertical-align: top;\n",
       "    }\n",
       "\n",
       "    .dataframe thead th {\n",
       "        text-align: right;\n",
       "    }\n",
       "</style>\n",
       "<table border=\"1\" class=\"dataframe\">\n",
       "  <thead>\n",
       "    <tr style=\"text-align: right;\">\n",
       "      <th></th>\n",
       "      <th>id</th>\n",
       "      <th>date</th>\n",
       "      <th>price</th>\n",
       "      <th>bedrooms</th>\n",
       "      <th>bathrooms</th>\n",
       "      <th>sqft_living</th>\n",
       "      <th>sqft_lot</th>\n",
       "      <th>floors</th>\n",
       "      <th>waterfront</th>\n",
       "      <th>view</th>\n",
       "      <th>...</th>\n",
       "      <th>grade</th>\n",
       "      <th>sqft_above</th>\n",
       "      <th>sqft_basement</th>\n",
       "      <th>yr_built</th>\n",
       "      <th>yr_renovated</th>\n",
       "      <th>zipcode</th>\n",
       "      <th>lat</th>\n",
       "      <th>long</th>\n",
       "      <th>sqft_living15</th>\n",
       "      <th>sqft_lot15</th>\n",
       "    </tr>\n",
       "  </thead>\n",
       "  <tbody>\n",
       "    <tr>\n",
       "      <th>0</th>\n",
       "      <td>7129300520</td>\n",
       "      <td>20141013T000000</td>\n",
       "      <td>221900.0</td>\n",
       "      <td>3</td>\n",
       "      <td>1.00</td>\n",
       "      <td>1180</td>\n",
       "      <td>5650</td>\n",
       "      <td>1.0</td>\n",
       "      <td>0</td>\n",
       "      <td>0</td>\n",
       "      <td>...</td>\n",
       "      <td>7</td>\n",
       "      <td>1180</td>\n",
       "      <td>0</td>\n",
       "      <td>1955</td>\n",
       "      <td>0</td>\n",
       "      <td>98178</td>\n",
       "      <td>47.5112</td>\n",
       "      <td>-122.257</td>\n",
       "      <td>1340</td>\n",
       "      <td>5650</td>\n",
       "    </tr>\n",
       "    <tr>\n",
       "      <th>1</th>\n",
       "      <td>6414100192</td>\n",
       "      <td>20141209T000000</td>\n",
       "      <td>538000.0</td>\n",
       "      <td>3</td>\n",
       "      <td>2.25</td>\n",
       "      <td>2570</td>\n",
       "      <td>7242</td>\n",
       "      <td>2.0</td>\n",
       "      <td>0</td>\n",
       "      <td>0</td>\n",
       "      <td>...</td>\n",
       "      <td>7</td>\n",
       "      <td>2170</td>\n",
       "      <td>400</td>\n",
       "      <td>1951</td>\n",
       "      <td>1991</td>\n",
       "      <td>98125</td>\n",
       "      <td>47.7210</td>\n",
       "      <td>-122.319</td>\n",
       "      <td>1690</td>\n",
       "      <td>7639</td>\n",
       "    </tr>\n",
       "    <tr>\n",
       "      <th>2</th>\n",
       "      <td>5631500400</td>\n",
       "      <td>20150225T000000</td>\n",
       "      <td>180000.0</td>\n",
       "      <td>2</td>\n",
       "      <td>1.00</td>\n",
       "      <td>770</td>\n",
       "      <td>10000</td>\n",
       "      <td>1.0</td>\n",
       "      <td>0</td>\n",
       "      <td>0</td>\n",
       "      <td>...</td>\n",
       "      <td>6</td>\n",
       "      <td>770</td>\n",
       "      <td>0</td>\n",
       "      <td>1933</td>\n",
       "      <td>0</td>\n",
       "      <td>98028</td>\n",
       "      <td>47.7379</td>\n",
       "      <td>-122.233</td>\n",
       "      <td>2720</td>\n",
       "      <td>8062</td>\n",
       "    </tr>\n",
       "    <tr>\n",
       "      <th>3</th>\n",
       "      <td>2487200875</td>\n",
       "      <td>20141209T000000</td>\n",
       "      <td>604000.0</td>\n",
       "      <td>4</td>\n",
       "      <td>3.00</td>\n",
       "      <td>1960</td>\n",
       "      <td>5000</td>\n",
       "      <td>1.0</td>\n",
       "      <td>0</td>\n",
       "      <td>0</td>\n",
       "      <td>...</td>\n",
       "      <td>7</td>\n",
       "      <td>1050</td>\n",
       "      <td>910</td>\n",
       "      <td>1965</td>\n",
       "      <td>0</td>\n",
       "      <td>98136</td>\n",
       "      <td>47.5208</td>\n",
       "      <td>-122.393</td>\n",
       "      <td>1360</td>\n",
       "      <td>5000</td>\n",
       "    </tr>\n",
       "    <tr>\n",
       "      <th>4</th>\n",
       "      <td>1954400510</td>\n",
       "      <td>20150218T000000</td>\n",
       "      <td>510000.0</td>\n",
       "      <td>3</td>\n",
       "      <td>2.00</td>\n",
       "      <td>1680</td>\n",
       "      <td>8080</td>\n",
       "      <td>1.0</td>\n",
       "      <td>0</td>\n",
       "      <td>0</td>\n",
       "      <td>...</td>\n",
       "      <td>8</td>\n",
       "      <td>1680</td>\n",
       "      <td>0</td>\n",
       "      <td>1987</td>\n",
       "      <td>0</td>\n",
       "      <td>98074</td>\n",
       "      <td>47.6168</td>\n",
       "      <td>-122.045</td>\n",
       "      <td>1800</td>\n",
       "      <td>7503</td>\n",
       "    </tr>\n",
       "    <tr>\n",
       "      <th>...</th>\n",
       "      <td>...</td>\n",
       "      <td>...</td>\n",
       "      <td>...</td>\n",
       "      <td>...</td>\n",
       "      <td>...</td>\n",
       "      <td>...</td>\n",
       "      <td>...</td>\n",
       "      <td>...</td>\n",
       "      <td>...</td>\n",
       "      <td>...</td>\n",
       "      <td>...</td>\n",
       "      <td>...</td>\n",
       "      <td>...</td>\n",
       "      <td>...</td>\n",
       "      <td>...</td>\n",
       "      <td>...</td>\n",
       "      <td>...</td>\n",
       "      <td>...</td>\n",
       "      <td>...</td>\n",
       "      <td>...</td>\n",
       "      <td>...</td>\n",
       "    </tr>\n",
       "    <tr>\n",
       "      <th>95</th>\n",
       "      <td>1483300570</td>\n",
       "      <td>20140908T000000</td>\n",
       "      <td>905000.0</td>\n",
       "      <td>4</td>\n",
       "      <td>2.50</td>\n",
       "      <td>3300</td>\n",
       "      <td>10250</td>\n",
       "      <td>1.0</td>\n",
       "      <td>0</td>\n",
       "      <td>0</td>\n",
       "      <td>...</td>\n",
       "      <td>7</td>\n",
       "      <td>2390</td>\n",
       "      <td>910</td>\n",
       "      <td>1946</td>\n",
       "      <td>1991</td>\n",
       "      <td>98040</td>\n",
       "      <td>47.5873</td>\n",
       "      <td>-122.249</td>\n",
       "      <td>1950</td>\n",
       "      <td>6045</td>\n",
       "    </tr>\n",
       "    <tr>\n",
       "      <th>96</th>\n",
       "      <td>3422049190</td>\n",
       "      <td>20150330T000000</td>\n",
       "      <td>247500.0</td>\n",
       "      <td>3</td>\n",
       "      <td>1.75</td>\n",
       "      <td>1960</td>\n",
       "      <td>15681</td>\n",
       "      <td>1.0</td>\n",
       "      <td>0</td>\n",
       "      <td>0</td>\n",
       "      <td>...</td>\n",
       "      <td>7</td>\n",
       "      <td>1960</td>\n",
       "      <td>0</td>\n",
       "      <td>1967</td>\n",
       "      <td>0</td>\n",
       "      <td>98032</td>\n",
       "      <td>47.3576</td>\n",
       "      <td>-122.277</td>\n",
       "      <td>1750</td>\n",
       "      <td>15616</td>\n",
       "    </tr>\n",
       "    <tr>\n",
       "      <th>97</th>\n",
       "      <td>1099611230</td>\n",
       "      <td>20140912T000000</td>\n",
       "      <td>199000.0</td>\n",
       "      <td>4</td>\n",
       "      <td>1.50</td>\n",
       "      <td>1160</td>\n",
       "      <td>6400</td>\n",
       "      <td>1.0</td>\n",
       "      <td>0</td>\n",
       "      <td>0</td>\n",
       "      <td>...</td>\n",
       "      <td>7</td>\n",
       "      <td>1160</td>\n",
       "      <td>0</td>\n",
       "      <td>1975</td>\n",
       "      <td>0</td>\n",
       "      <td>98023</td>\n",
       "      <td>47.3036</td>\n",
       "      <td>-122.378</td>\n",
       "      <td>1160</td>\n",
       "      <td>6400</td>\n",
       "    </tr>\n",
       "    <tr>\n",
       "      <th>98</th>\n",
       "      <td>722079104</td>\n",
       "      <td>20140711T000000</td>\n",
       "      <td>314000.0</td>\n",
       "      <td>3</td>\n",
       "      <td>1.75</td>\n",
       "      <td>1810</td>\n",
       "      <td>41800</td>\n",
       "      <td>1.0</td>\n",
       "      <td>0</td>\n",
       "      <td>0</td>\n",
       "      <td>...</td>\n",
       "      <td>7</td>\n",
       "      <td>1210</td>\n",
       "      <td>600</td>\n",
       "      <td>1980</td>\n",
       "      <td>0</td>\n",
       "      <td>98038</td>\n",
       "      <td>47.4109</td>\n",
       "      <td>-121.958</td>\n",
       "      <td>1650</td>\n",
       "      <td>135036</td>\n",
       "    </tr>\n",
       "    <tr>\n",
       "      <th>99</th>\n",
       "      <td>7338200240</td>\n",
       "      <td>20140516T000000</td>\n",
       "      <td>437500.0</td>\n",
       "      <td>3</td>\n",
       "      <td>2.50</td>\n",
       "      <td>2320</td>\n",
       "      <td>36847</td>\n",
       "      <td>2.0</td>\n",
       "      <td>0</td>\n",
       "      <td>2</td>\n",
       "      <td>...</td>\n",
       "      <td>9</td>\n",
       "      <td>2320</td>\n",
       "      <td>0</td>\n",
       "      <td>1992</td>\n",
       "      <td>0</td>\n",
       "      <td>98045</td>\n",
       "      <td>47.4838</td>\n",
       "      <td>-121.714</td>\n",
       "      <td>2550</td>\n",
       "      <td>35065</td>\n",
       "    </tr>\n",
       "  </tbody>\n",
       "</table>\n",
       "<p>100 rows × 21 columns</p>\n",
       "</div>"
      ],
      "text/plain": [
       "            id             date     price  bedrooms  bathrooms  sqft_living  \\\n",
       "0   7129300520  20141013T000000  221900.0         3       1.00         1180   \n",
       "1   6414100192  20141209T000000  538000.0         3       2.25         2570   \n",
       "2   5631500400  20150225T000000  180000.0         2       1.00          770   \n",
       "3   2487200875  20141209T000000  604000.0         4       3.00         1960   \n",
       "4   1954400510  20150218T000000  510000.0         3       2.00         1680   \n",
       "..         ...              ...       ...       ...        ...          ...   \n",
       "95  1483300570  20140908T000000  905000.0         4       2.50         3300   \n",
       "96  3422049190  20150330T000000  247500.0         3       1.75         1960   \n",
       "97  1099611230  20140912T000000  199000.0         4       1.50         1160   \n",
       "98   722079104  20140711T000000  314000.0         3       1.75         1810   \n",
       "99  7338200240  20140516T000000  437500.0         3       2.50         2320   \n",
       "\n",
       "    sqft_lot  floors  waterfront  view  ...  grade  sqft_above  sqft_basement  \\\n",
       "0       5650     1.0           0     0  ...      7        1180              0   \n",
       "1       7242     2.0           0     0  ...      7        2170            400   \n",
       "2      10000     1.0           0     0  ...      6         770              0   \n",
       "3       5000     1.0           0     0  ...      7        1050            910   \n",
       "4       8080     1.0           0     0  ...      8        1680              0   \n",
       "..       ...     ...         ...   ...  ...    ...         ...            ...   \n",
       "95     10250     1.0           0     0  ...      7        2390            910   \n",
       "96     15681     1.0           0     0  ...      7        1960              0   \n",
       "97      6400     1.0           0     0  ...      7        1160              0   \n",
       "98     41800     1.0           0     0  ...      7        1210            600   \n",
       "99     36847     2.0           0     2  ...      9        2320              0   \n",
       "\n",
       "    yr_built  yr_renovated  zipcode      lat     long  sqft_living15  \\\n",
       "0       1955             0    98178  47.5112 -122.257           1340   \n",
       "1       1951          1991    98125  47.7210 -122.319           1690   \n",
       "2       1933             0    98028  47.7379 -122.233           2720   \n",
       "3       1965             0    98136  47.5208 -122.393           1360   \n",
       "4       1987             0    98074  47.6168 -122.045           1800   \n",
       "..       ...           ...      ...      ...      ...            ...   \n",
       "95      1946          1991    98040  47.5873 -122.249           1950   \n",
       "96      1967             0    98032  47.3576 -122.277           1750   \n",
       "97      1975             0    98023  47.3036 -122.378           1160   \n",
       "98      1980             0    98038  47.4109 -121.958           1650   \n",
       "99      1992             0    98045  47.4838 -121.714           2550   \n",
       "\n",
       "    sqft_lot15  \n",
       "0         5650  \n",
       "1         7639  \n",
       "2         8062  \n",
       "3         5000  \n",
       "4         7503  \n",
       "..         ...  \n",
       "95        6045  \n",
       "96       15616  \n",
       "97        6400  \n",
       "98      135036  \n",
       "99       35065  \n",
       "\n",
       "[100 rows x 21 columns]"
      ]
     },
     "execution_count": 3,
     "metadata": {},
     "output_type": "execute_result"
    }
   ],
   "source": [
    "df.head(100)"
   ]
  },
  {
   "cell_type": "markdown",
   "id": "a3dd8826",
   "metadata": {
    "papermill": {
     "duration": 0.019092,
     "end_time": "2023-06-01T21:41:57.918159",
     "exception": false,
     "start_time": "2023-06-01T21:41:57.899067",
     "status": "completed"
    },
    "tags": []
   },
   "source": [
    "# 3. **Preprocessing On Data**"
   ]
  },
  {
   "cell_type": "code",
   "execution_count": 4,
   "id": "1b1fb5e4",
   "metadata": {
    "execution": {
     "iopub.execute_input": "2023-06-01T21:41:57.957957Z",
     "iopub.status.busy": "2023-06-01T21:41:57.957507Z",
     "iopub.status.idle": "2023-06-01T21:41:57.963889Z",
     "shell.execute_reply": "2023-06-01T21:41:57.963079Z"
    },
    "id": "A9Ie8C_sSQh7",
    "outputId": "99bba3fd-be8e-4c28-9877-a3e7c0a38f6b",
    "papermill": {
     "duration": 0.029012,
     "end_time": "2023-06-01T21:41:57.966272",
     "exception": false,
     "start_time": "2023-06-01T21:41:57.937260",
     "status": "completed"
    },
    "tags": []
   },
   "outputs": [
    {
     "data": {
      "text/plain": [
       "(21613, 21)"
      ]
     },
     "execution_count": 4,
     "metadata": {},
     "output_type": "execute_result"
    }
   ],
   "source": [
    "df.shape"
   ]
  },
  {
   "cell_type": "markdown",
   "id": "1fcad86d",
   "metadata": {
    "id": "2s5QX_SdMJzT",
    "papermill": {
     "duration": 0.018826,
     "end_time": "2023-06-01T21:41:58.004513",
     "exception": false,
     "start_time": "2023-06-01T21:41:57.985687",
     "status": "completed"
    },
    "tags": []
   },
   "source": [
    "We Should convert column date into Date"
   ]
  },
  {
   "cell_type": "code",
   "execution_count": 5,
   "id": "80d7cdf5",
   "metadata": {
    "execution": {
     "iopub.execute_input": "2023-06-01T21:41:58.046040Z",
     "iopub.status.busy": "2023-06-01T21:41:58.045290Z",
     "iopub.status.idle": "2023-06-01T21:41:58.077335Z",
     "shell.execute_reply": "2023-06-01T21:41:58.076251Z"
    },
    "id": "7i11ILRQKl6m",
    "outputId": "49530bb5-ad39-4069-d65d-8b3c0bdc1d44",
    "papermill": {
     "duration": 0.055789,
     "end_time": "2023-06-01T21:41:58.080221",
     "exception": false,
     "start_time": "2023-06-01T21:41:58.024432",
     "status": "completed"
    },
    "tags": []
   },
   "outputs": [
    {
     "name": "stdout",
     "output_type": "stream",
     "text": [
      "<class 'pandas.core.frame.DataFrame'>\n",
      "RangeIndex: 21613 entries, 0 to 21612\n",
      "Data columns (total 21 columns):\n",
      " #   Column         Non-Null Count  Dtype  \n",
      "---  ------         --------------  -----  \n",
      " 0   id             21613 non-null  int64  \n",
      " 1   date           21613 non-null  object \n",
      " 2   price          21613 non-null  float64\n",
      " 3   bedrooms       21613 non-null  int64  \n",
      " 4   bathrooms      21613 non-null  float64\n",
      " 5   sqft_living    21613 non-null  int64  \n",
      " 6   sqft_lot       21613 non-null  int64  \n",
      " 7   floors         21613 non-null  float64\n",
      " 8   waterfront     21613 non-null  int64  \n",
      " 9   view           21613 non-null  int64  \n",
      " 10  condition      21613 non-null  int64  \n",
      " 11  grade          21613 non-null  int64  \n",
      " 12  sqft_above     21613 non-null  int64  \n",
      " 13  sqft_basement  21613 non-null  int64  \n",
      " 14  yr_built       21613 non-null  int64  \n",
      " 15  yr_renovated   21613 non-null  int64  \n",
      " 16  zipcode        21613 non-null  int64  \n",
      " 17  lat            21613 non-null  float64\n",
      " 18  long           21613 non-null  float64\n",
      " 19  sqft_living15  21613 non-null  int64  \n",
      " 20  sqft_lot15     21613 non-null  int64  \n",
      "dtypes: float64(5), int64(15), object(1)\n",
      "memory usage: 3.5+ MB\n"
     ]
    }
   ],
   "source": [
    "df.info()"
   ]
  },
  {
   "cell_type": "code",
   "execution_count": 6,
   "id": "b1db40c4",
   "metadata": {
    "execution": {
     "iopub.execute_input": "2023-06-01T21:41:58.121027Z",
     "iopub.status.busy": "2023-06-01T21:41:58.120336Z",
     "iopub.status.idle": "2023-06-01T21:41:58.214099Z",
     "shell.execute_reply": "2023-06-01T21:41:58.213187Z"
    },
    "id": "lhwVxJfwKy9S",
    "outputId": "08e75d62-dafe-4c8c-d10e-f651fd212a75",
    "papermill": {
     "duration": 0.116937,
     "end_time": "2023-06-01T21:41:58.216475",
     "exception": false,
     "start_time": "2023-06-01T21:41:58.099538",
     "status": "completed"
    },
    "tags": []
   },
   "outputs": [
    {
     "data": {
      "text/html": [
       "<div>\n",
       "<style scoped>\n",
       "    .dataframe tbody tr th:only-of-type {\n",
       "        vertical-align: middle;\n",
       "    }\n",
       "\n",
       "    .dataframe tbody tr th {\n",
       "        vertical-align: top;\n",
       "    }\n",
       "\n",
       "    .dataframe thead th {\n",
       "        text-align: right;\n",
       "    }\n",
       "</style>\n",
       "<table border=\"1\" class=\"dataframe\">\n",
       "  <thead>\n",
       "    <tr style=\"text-align: right;\">\n",
       "      <th></th>\n",
       "      <th>id</th>\n",
       "      <th>price</th>\n",
       "      <th>bedrooms</th>\n",
       "      <th>bathrooms</th>\n",
       "      <th>sqft_living</th>\n",
       "      <th>sqft_lot</th>\n",
       "      <th>floors</th>\n",
       "      <th>waterfront</th>\n",
       "      <th>view</th>\n",
       "      <th>condition</th>\n",
       "      <th>grade</th>\n",
       "      <th>sqft_above</th>\n",
       "      <th>sqft_basement</th>\n",
       "      <th>yr_built</th>\n",
       "      <th>yr_renovated</th>\n",
       "      <th>zipcode</th>\n",
       "      <th>lat</th>\n",
       "      <th>long</th>\n",
       "      <th>sqft_living15</th>\n",
       "      <th>sqft_lot15</th>\n",
       "    </tr>\n",
       "  </thead>\n",
       "  <tbody>\n",
       "    <tr>\n",
       "      <th>count</th>\n",
       "      <td>2.161300e+04</td>\n",
       "      <td>2.161300e+04</td>\n",
       "      <td>21613.000000</td>\n",
       "      <td>21613.000000</td>\n",
       "      <td>21613.000000</td>\n",
       "      <td>2.161300e+04</td>\n",
       "      <td>21613.000000</td>\n",
       "      <td>21613.000000</td>\n",
       "      <td>21613.000000</td>\n",
       "      <td>21613.000000</td>\n",
       "      <td>21613.000000</td>\n",
       "      <td>21613.000000</td>\n",
       "      <td>21613.000000</td>\n",
       "      <td>21613.000000</td>\n",
       "      <td>21613.000000</td>\n",
       "      <td>21613.000000</td>\n",
       "      <td>21613.000000</td>\n",
       "      <td>21613.000000</td>\n",
       "      <td>21613.000000</td>\n",
       "      <td>21613.000000</td>\n",
       "    </tr>\n",
       "    <tr>\n",
       "      <th>mean</th>\n",
       "      <td>4.580302e+09</td>\n",
       "      <td>5.400881e+05</td>\n",
       "      <td>3.370842</td>\n",
       "      <td>2.114757</td>\n",
       "      <td>2079.899736</td>\n",
       "      <td>1.510697e+04</td>\n",
       "      <td>1.494309</td>\n",
       "      <td>0.007542</td>\n",
       "      <td>0.234303</td>\n",
       "      <td>3.409430</td>\n",
       "      <td>7.656873</td>\n",
       "      <td>1788.390691</td>\n",
       "      <td>291.509045</td>\n",
       "      <td>1971.005136</td>\n",
       "      <td>84.402258</td>\n",
       "      <td>98077.939805</td>\n",
       "      <td>47.560053</td>\n",
       "      <td>-122.213896</td>\n",
       "      <td>1986.552492</td>\n",
       "      <td>12768.455652</td>\n",
       "    </tr>\n",
       "    <tr>\n",
       "      <th>std</th>\n",
       "      <td>2.876566e+09</td>\n",
       "      <td>3.671272e+05</td>\n",
       "      <td>0.930062</td>\n",
       "      <td>0.770163</td>\n",
       "      <td>918.440897</td>\n",
       "      <td>4.142051e+04</td>\n",
       "      <td>0.539989</td>\n",
       "      <td>0.086517</td>\n",
       "      <td>0.766318</td>\n",
       "      <td>0.650743</td>\n",
       "      <td>1.175459</td>\n",
       "      <td>828.090978</td>\n",
       "      <td>442.575043</td>\n",
       "      <td>29.373411</td>\n",
       "      <td>401.679240</td>\n",
       "      <td>53.505026</td>\n",
       "      <td>0.138564</td>\n",
       "      <td>0.140828</td>\n",
       "      <td>685.391304</td>\n",
       "      <td>27304.179631</td>\n",
       "    </tr>\n",
       "    <tr>\n",
       "      <th>min</th>\n",
       "      <td>1.000102e+06</td>\n",
       "      <td>7.500000e+04</td>\n",
       "      <td>0.000000</td>\n",
       "      <td>0.000000</td>\n",
       "      <td>290.000000</td>\n",
       "      <td>5.200000e+02</td>\n",
       "      <td>1.000000</td>\n",
       "      <td>0.000000</td>\n",
       "      <td>0.000000</td>\n",
       "      <td>1.000000</td>\n",
       "      <td>1.000000</td>\n",
       "      <td>290.000000</td>\n",
       "      <td>0.000000</td>\n",
       "      <td>1900.000000</td>\n",
       "      <td>0.000000</td>\n",
       "      <td>98001.000000</td>\n",
       "      <td>47.155900</td>\n",
       "      <td>-122.519000</td>\n",
       "      <td>399.000000</td>\n",
       "      <td>651.000000</td>\n",
       "    </tr>\n",
       "    <tr>\n",
       "      <th>25%</th>\n",
       "      <td>2.123049e+09</td>\n",
       "      <td>3.219500e+05</td>\n",
       "      <td>3.000000</td>\n",
       "      <td>1.750000</td>\n",
       "      <td>1427.000000</td>\n",
       "      <td>5.040000e+03</td>\n",
       "      <td>1.000000</td>\n",
       "      <td>0.000000</td>\n",
       "      <td>0.000000</td>\n",
       "      <td>3.000000</td>\n",
       "      <td>7.000000</td>\n",
       "      <td>1190.000000</td>\n",
       "      <td>0.000000</td>\n",
       "      <td>1951.000000</td>\n",
       "      <td>0.000000</td>\n",
       "      <td>98033.000000</td>\n",
       "      <td>47.471000</td>\n",
       "      <td>-122.328000</td>\n",
       "      <td>1490.000000</td>\n",
       "      <td>5100.000000</td>\n",
       "    </tr>\n",
       "    <tr>\n",
       "      <th>50%</th>\n",
       "      <td>3.904930e+09</td>\n",
       "      <td>4.500000e+05</td>\n",
       "      <td>3.000000</td>\n",
       "      <td>2.250000</td>\n",
       "      <td>1910.000000</td>\n",
       "      <td>7.618000e+03</td>\n",
       "      <td>1.500000</td>\n",
       "      <td>0.000000</td>\n",
       "      <td>0.000000</td>\n",
       "      <td>3.000000</td>\n",
       "      <td>7.000000</td>\n",
       "      <td>1560.000000</td>\n",
       "      <td>0.000000</td>\n",
       "      <td>1975.000000</td>\n",
       "      <td>0.000000</td>\n",
       "      <td>98065.000000</td>\n",
       "      <td>47.571800</td>\n",
       "      <td>-122.230000</td>\n",
       "      <td>1840.000000</td>\n",
       "      <td>7620.000000</td>\n",
       "    </tr>\n",
       "    <tr>\n",
       "      <th>75%</th>\n",
       "      <td>7.308900e+09</td>\n",
       "      <td>6.450000e+05</td>\n",
       "      <td>4.000000</td>\n",
       "      <td>2.500000</td>\n",
       "      <td>2550.000000</td>\n",
       "      <td>1.068800e+04</td>\n",
       "      <td>2.000000</td>\n",
       "      <td>0.000000</td>\n",
       "      <td>0.000000</td>\n",
       "      <td>4.000000</td>\n",
       "      <td>8.000000</td>\n",
       "      <td>2210.000000</td>\n",
       "      <td>560.000000</td>\n",
       "      <td>1997.000000</td>\n",
       "      <td>0.000000</td>\n",
       "      <td>98118.000000</td>\n",
       "      <td>47.678000</td>\n",
       "      <td>-122.125000</td>\n",
       "      <td>2360.000000</td>\n",
       "      <td>10083.000000</td>\n",
       "    </tr>\n",
       "    <tr>\n",
       "      <th>max</th>\n",
       "      <td>9.900000e+09</td>\n",
       "      <td>7.700000e+06</td>\n",
       "      <td>33.000000</td>\n",
       "      <td>8.000000</td>\n",
       "      <td>13540.000000</td>\n",
       "      <td>1.651359e+06</td>\n",
       "      <td>3.500000</td>\n",
       "      <td>1.000000</td>\n",
       "      <td>4.000000</td>\n",
       "      <td>5.000000</td>\n",
       "      <td>13.000000</td>\n",
       "      <td>9410.000000</td>\n",
       "      <td>4820.000000</td>\n",
       "      <td>2015.000000</td>\n",
       "      <td>2015.000000</td>\n",
       "      <td>98199.000000</td>\n",
       "      <td>47.777600</td>\n",
       "      <td>-121.315000</td>\n",
       "      <td>6210.000000</td>\n",
       "      <td>871200.000000</td>\n",
       "    </tr>\n",
       "  </tbody>\n",
       "</table>\n",
       "</div>"
      ],
      "text/plain": [
       "                 id         price      bedrooms     bathrooms   sqft_living  \\\n",
       "count  2.161300e+04  2.161300e+04  21613.000000  21613.000000  21613.000000   \n",
       "mean   4.580302e+09  5.400881e+05      3.370842      2.114757   2079.899736   \n",
       "std    2.876566e+09  3.671272e+05      0.930062      0.770163    918.440897   \n",
       "min    1.000102e+06  7.500000e+04      0.000000      0.000000    290.000000   \n",
       "25%    2.123049e+09  3.219500e+05      3.000000      1.750000   1427.000000   \n",
       "50%    3.904930e+09  4.500000e+05      3.000000      2.250000   1910.000000   \n",
       "75%    7.308900e+09  6.450000e+05      4.000000      2.500000   2550.000000   \n",
       "max    9.900000e+09  7.700000e+06     33.000000      8.000000  13540.000000   \n",
       "\n",
       "           sqft_lot        floors    waterfront          view     condition  \\\n",
       "count  2.161300e+04  21613.000000  21613.000000  21613.000000  21613.000000   \n",
       "mean   1.510697e+04      1.494309      0.007542      0.234303      3.409430   \n",
       "std    4.142051e+04      0.539989      0.086517      0.766318      0.650743   \n",
       "min    5.200000e+02      1.000000      0.000000      0.000000      1.000000   \n",
       "25%    5.040000e+03      1.000000      0.000000      0.000000      3.000000   \n",
       "50%    7.618000e+03      1.500000      0.000000      0.000000      3.000000   \n",
       "75%    1.068800e+04      2.000000      0.000000      0.000000      4.000000   \n",
       "max    1.651359e+06      3.500000      1.000000      4.000000      5.000000   \n",
       "\n",
       "              grade    sqft_above  sqft_basement      yr_built  yr_renovated  \\\n",
       "count  21613.000000  21613.000000   21613.000000  21613.000000  21613.000000   \n",
       "mean       7.656873   1788.390691     291.509045   1971.005136     84.402258   \n",
       "std        1.175459    828.090978     442.575043     29.373411    401.679240   \n",
       "min        1.000000    290.000000       0.000000   1900.000000      0.000000   \n",
       "25%        7.000000   1190.000000       0.000000   1951.000000      0.000000   \n",
       "50%        7.000000   1560.000000       0.000000   1975.000000      0.000000   \n",
       "75%        8.000000   2210.000000     560.000000   1997.000000      0.000000   \n",
       "max       13.000000   9410.000000    4820.000000   2015.000000   2015.000000   \n",
       "\n",
       "            zipcode           lat          long  sqft_living15     sqft_lot15  \n",
       "count  21613.000000  21613.000000  21613.000000   21613.000000   21613.000000  \n",
       "mean   98077.939805     47.560053   -122.213896    1986.552492   12768.455652  \n",
       "std       53.505026      0.138564      0.140828     685.391304   27304.179631  \n",
       "min    98001.000000     47.155900   -122.519000     399.000000     651.000000  \n",
       "25%    98033.000000     47.471000   -122.328000    1490.000000    5100.000000  \n",
       "50%    98065.000000     47.571800   -122.230000    1840.000000    7620.000000  \n",
       "75%    98118.000000     47.678000   -122.125000    2360.000000   10083.000000  \n",
       "max    98199.000000     47.777600   -121.315000    6210.000000  871200.000000  "
      ]
     },
     "execution_count": 6,
     "metadata": {},
     "output_type": "execute_result"
    }
   ],
   "source": [
    "df.describe()"
   ]
  },
  {
   "cell_type": "code",
   "execution_count": 7,
   "id": "a110e76b",
   "metadata": {
    "execution": {
     "iopub.execute_input": "2023-06-01T21:41:58.258013Z",
     "iopub.status.busy": "2023-06-01T21:41:58.257314Z",
     "iopub.status.idle": "2023-06-01T21:41:58.274037Z",
     "shell.execute_reply": "2023-06-01T21:41:58.272922Z"
    },
    "id": "Pmtd7msyK0V8",
    "outputId": "37637c5b-0819-4933-ea98-6e8690c17b41",
    "papermill": {
     "duration": 0.040411,
     "end_time": "2023-06-01T21:41:58.276548",
     "exception": false,
     "start_time": "2023-06-01T21:41:58.236137",
     "status": "completed"
    },
    "tags": []
   },
   "outputs": [
    {
     "data": {
      "text/plain": [
       "id               21613\n",
       "date             21613\n",
       "price            21613\n",
       "bedrooms         21613\n",
       "bathrooms        21613\n",
       "sqft_living      21613\n",
       "sqft_lot         21613\n",
       "floors           21613\n",
       "waterfront       21613\n",
       "view             21613\n",
       "condition        21613\n",
       "grade            21613\n",
       "sqft_above       21613\n",
       "sqft_basement    21613\n",
       "yr_built         21613\n",
       "yr_renovated     21613\n",
       "zipcode          21613\n",
       "lat              21613\n",
       "long             21613\n",
       "sqft_living15    21613\n",
       "sqft_lot15       21613\n",
       "dtype: int64"
      ]
     },
     "execution_count": 7,
     "metadata": {},
     "output_type": "execute_result"
    }
   ],
   "source": [
    "df.count()"
   ]
  },
  {
   "cell_type": "code",
   "execution_count": 8,
   "id": "df55ab48",
   "metadata": {
    "execution": {
     "iopub.execute_input": "2023-06-01T21:41:58.318481Z",
     "iopub.status.busy": "2023-06-01T21:41:58.318046Z",
     "iopub.status.idle": "2023-06-01T21:41:58.335784Z",
     "shell.execute_reply": "2023-06-01T21:41:58.334677Z"
    },
    "id": "Flwe9hBHLAfr",
    "outputId": "62639380-96f0-4514-f462-3817806d88dd",
    "papermill": {
     "duration": 0.04233,
     "end_time": "2023-06-01T21:41:58.338578",
     "exception": false,
     "start_time": "2023-06-01T21:41:58.296248",
     "status": "completed"
    },
    "tags": []
   },
   "outputs": [
    {
     "data": {
      "text/plain": [
       "id               0\n",
       "date             0\n",
       "price            0\n",
       "bedrooms         0\n",
       "bathrooms        0\n",
       "sqft_living      0\n",
       "sqft_lot         0\n",
       "floors           0\n",
       "waterfront       0\n",
       "view             0\n",
       "condition        0\n",
       "grade            0\n",
       "sqft_above       0\n",
       "sqft_basement    0\n",
       "yr_built         0\n",
       "yr_renovated     0\n",
       "zipcode          0\n",
       "lat              0\n",
       "long             0\n",
       "sqft_living15    0\n",
       "sqft_lot15       0\n",
       "dtype: int64"
      ]
     },
     "execution_count": 8,
     "metadata": {},
     "output_type": "execute_result"
    }
   ],
   "source": [
    "df.isna().sum()"
   ]
  },
  {
   "cell_type": "code",
   "execution_count": 9,
   "id": "5240c805",
   "metadata": {
    "execution": {
     "iopub.execute_input": "2023-06-01T21:41:58.381971Z",
     "iopub.status.busy": "2023-06-01T21:41:58.381148Z",
     "iopub.status.idle": "2023-06-01T21:41:58.390391Z",
     "shell.execute_reply": "2023-06-01T21:41:58.389223Z"
    },
    "id": "zlsX2hYoL5Nc",
    "outputId": "ce86427f-c2f0-424b-b52a-0441420cb128",
    "papermill": {
     "duration": 0.033194,
     "end_time": "2023-06-01T21:41:58.392724",
     "exception": false,
     "start_time": "2023-06-01T21:41:58.359530",
     "status": "completed"
    },
    "tags": []
   },
   "outputs": [
    {
     "data": {
      "text/plain": [
       "0        20141013T000000\n",
       "1        20141209T000000\n",
       "2        20150225T000000\n",
       "3        20141209T000000\n",
       "4        20150218T000000\n",
       "              ...       \n",
       "21608    20140521T000000\n",
       "21609    20150223T000000\n",
       "21610    20140623T000000\n",
       "21611    20150116T000000\n",
       "21612    20141015T000000\n",
       "Name: date, Length: 21613, dtype: object"
      ]
     },
     "execution_count": 9,
     "metadata": {},
     "output_type": "execute_result"
    }
   ],
   "source": [
    "df['date']"
   ]
  },
  {
   "cell_type": "code",
   "execution_count": 10,
   "id": "57c7f5f6",
   "metadata": {
    "execution": {
     "iopub.execute_input": "2023-06-01T21:41:58.434741Z",
     "iopub.status.busy": "2023-06-01T21:41:58.434363Z",
     "iopub.status.idle": "2023-06-01T21:41:58.442517Z",
     "shell.execute_reply": "2023-06-01T21:41:58.441472Z"
    },
    "id": "4QJu6zsxNztF",
    "outputId": "83acbc3b-0f85-442d-9615-c35daa122502",
    "papermill": {
     "duration": 0.032303,
     "end_time": "2023-06-01T21:41:58.445265",
     "exception": false,
     "start_time": "2023-06-01T21:41:58.412962",
     "status": "completed"
    },
    "tags": []
   },
   "outputs": [
    {
     "data": {
      "text/plain": [
       "id                 int64\n",
       "date              object\n",
       "price            float64\n",
       "bedrooms           int64\n",
       "bathrooms        float64\n",
       "sqft_living        int64\n",
       "sqft_lot           int64\n",
       "floors           float64\n",
       "waterfront         int64\n",
       "view               int64\n",
       "condition          int64\n",
       "grade              int64\n",
       "sqft_above         int64\n",
       "sqft_basement      int64\n",
       "yr_built           int64\n",
       "yr_renovated       int64\n",
       "zipcode            int64\n",
       "lat              float64\n",
       "long             float64\n",
       "sqft_living15      int64\n",
       "sqft_lot15         int64\n",
       "dtype: object"
      ]
     },
     "execution_count": 10,
     "metadata": {},
     "output_type": "execute_result"
    }
   ],
   "source": [
    "df.dtypes"
   ]
  },
  {
   "cell_type": "code",
   "execution_count": 11,
   "id": "aed6ca55",
   "metadata": {
    "execution": {
     "iopub.execute_input": "2023-06-01T21:41:58.488510Z",
     "iopub.status.busy": "2023-06-01T21:41:58.488022Z",
     "iopub.status.idle": "2023-06-01T21:41:58.494699Z",
     "shell.execute_reply": "2023-06-01T21:41:58.493602Z"
    },
    "id": "09MSuCulMc_b",
    "outputId": "c195012d-0e0c-4b83-84b9-57b7194b0eb8",
    "papermill": {
     "duration": 0.031796,
     "end_time": "2023-06-01T21:41:58.497454",
     "exception": false,
     "start_time": "2023-06-01T21:41:58.465658",
     "status": "completed"
    },
    "tags": []
   },
   "outputs": [
    {
     "data": {
      "text/plain": [
       "dtype('O')"
      ]
     },
     "execution_count": 11,
     "metadata": {},
     "output_type": "execute_result"
    }
   ],
   "source": [
    "df['date'].dtype"
   ]
  },
  {
   "cell_type": "markdown",
   "id": "1a8964c7",
   "metadata": {
    "id": "g5N0lcirMiZD",
    "papermill": {
     "duration": 0.020062,
     "end_time": "2023-06-01T21:41:58.537662",
     "exception": false,
     "start_time": "2023-06-01T21:41:58.517600",
     "status": "completed"
    },
    "tags": []
   },
   "source": [
    "O means that type of this column is Object and we should convert it into Date  "
   ]
  },
  {
   "cell_type": "code",
   "execution_count": 12,
   "id": "34da1b2f",
   "metadata": {
    "execution": {
     "iopub.execute_input": "2023-06-01T21:41:58.579661Z",
     "iopub.status.busy": "2023-06-01T21:41:58.579290Z",
     "iopub.status.idle": "2023-06-01T21:41:58.591261Z",
     "shell.execute_reply": "2023-06-01T21:41:58.590305Z"
    },
    "id": "5OWQz7FDS6DA",
    "papermill": {
     "duration": 0.035902,
     "end_time": "2023-06-01T21:41:58.593714",
     "exception": false,
     "start_time": "2023-06-01T21:41:58.557812",
     "status": "completed"
    },
    "tags": []
   },
   "outputs": [],
   "source": [
    "df['datetime'] = pd.to_datetime(df['date'])"
   ]
  },
  {
   "cell_type": "code",
   "execution_count": 13,
   "id": "b3fdff24",
   "metadata": {
    "execution": {
     "iopub.execute_input": "2023-06-01T21:41:58.637294Z",
     "iopub.status.busy": "2023-06-01T21:41:58.636605Z",
     "iopub.status.idle": "2023-06-01T21:41:58.643691Z",
     "shell.execute_reply": "2023-06-01T21:41:58.642639Z"
    },
    "id": "75priDvmN9eC",
    "outputId": "4254fb94-4fbb-4769-ebc3-605355147422",
    "papermill": {
     "duration": 0.031911,
     "end_time": "2023-06-01T21:41:58.646202",
     "exception": false,
     "start_time": "2023-06-01T21:41:58.614291",
     "status": "completed"
    },
    "tags": []
   },
   "outputs": [
    {
     "data": {
      "text/plain": [
       "dtype('<M8[ns]')"
      ]
     },
     "execution_count": 13,
     "metadata": {},
     "output_type": "execute_result"
    }
   ],
   "source": [
    "df['datetime'].dtype"
   ]
  },
  {
   "cell_type": "code",
   "execution_count": 14,
   "id": "fc88321e",
   "metadata": {
    "execution": {
     "iopub.execute_input": "2023-06-01T21:41:58.690214Z",
     "iopub.status.busy": "2023-06-01T21:41:58.689781Z",
     "iopub.status.idle": "2023-06-01T21:41:58.703148Z",
     "shell.execute_reply": "2023-06-01T21:41:58.701863Z"
    },
    "id": "OCUGCQUETFoZ",
    "papermill": {
     "duration": 0.038361,
     "end_time": "2023-06-01T21:41:58.705861",
     "exception": false,
     "start_time": "2023-06-01T21:41:58.667500",
     "status": "completed"
    },
    "tags": []
   },
   "outputs": [],
   "source": [
    "df['year'] = df['datetime'].dt.year\n",
    "df['month'] = df['datetime'].dt.month"
   ]
  },
  {
   "cell_type": "code",
   "execution_count": 15,
   "id": "c1265e21",
   "metadata": {
    "execution": {
     "iopub.execute_input": "2023-06-01T21:41:58.749857Z",
     "iopub.status.busy": "2023-06-01T21:41:58.749402Z",
     "iopub.status.idle": "2023-06-01T21:41:58.759012Z",
     "shell.execute_reply": "2023-06-01T21:41:58.757929Z"
    },
    "id": "-hWzARZhTHX5",
    "outputId": "213763d5-fce4-4666-bebd-fb10fbe2f4c8",
    "papermill": {
     "duration": 0.034287,
     "end_time": "2023-06-01T21:41:58.761258",
     "exception": false,
     "start_time": "2023-06-01T21:41:58.726971",
     "status": "completed"
    },
    "tags": []
   },
   "outputs": [
    {
     "data": {
      "text/plain": [
       "0        2014\n",
       "1        2014\n",
       "2        2015\n",
       "3        2014\n",
       "4        2015\n",
       "         ... \n",
       "21608    2014\n",
       "21609    2015\n",
       "21610    2014\n",
       "21611    2015\n",
       "21612    2014\n",
       "Name: year, Length: 21613, dtype: int64"
      ]
     },
     "execution_count": 15,
     "metadata": {},
     "output_type": "execute_result"
    }
   ],
   "source": [
    "df['year']"
   ]
  },
  {
   "cell_type": "code",
   "execution_count": 16,
   "id": "7c57d261",
   "metadata": {
    "execution": {
     "iopub.execute_input": "2023-06-01T21:41:58.803049Z",
     "iopub.status.busy": "2023-06-01T21:41:58.802619Z",
     "iopub.status.idle": "2023-06-01T21:41:58.812048Z",
     "shell.execute_reply": "2023-06-01T21:41:58.810912Z"
    },
    "id": "5k1mkPLITJtp",
    "outputId": "c1345f2e-278f-486c-8d07-5e1ac7dd581f",
    "papermill": {
     "duration": 0.032725,
     "end_time": "2023-06-01T21:41:58.814175",
     "exception": false,
     "start_time": "2023-06-01T21:41:58.781450",
     "status": "completed"
    },
    "tags": []
   },
   "outputs": [
    {
     "data": {
      "text/plain": [
       "0        10\n",
       "1        12\n",
       "2         2\n",
       "3        12\n",
       "4         2\n",
       "         ..\n",
       "21608     5\n",
       "21609     2\n",
       "21610     6\n",
       "21611     1\n",
       "21612    10\n",
       "Name: month, Length: 21613, dtype: int64"
      ]
     },
     "execution_count": 16,
     "metadata": {},
     "output_type": "execute_result"
    }
   ],
   "source": [
    "df['month']"
   ]
  },
  {
   "cell_type": "code",
   "execution_count": 17,
   "id": "9917ebb5",
   "metadata": {
    "execution": {
     "iopub.execute_input": "2023-06-01T21:41:58.856144Z",
     "iopub.status.busy": "2023-06-01T21:41:58.855737Z",
     "iopub.status.idle": "2023-06-01T21:41:58.863908Z",
     "shell.execute_reply": "2023-06-01T21:41:58.863089Z"
    },
    "id": "6roHCWIkOAoy",
    "outputId": "83a2c498-6e67-4de4-801c-882da0823145",
    "papermill": {
     "duration": 0.031791,
     "end_time": "2023-06-01T21:41:58.865961",
     "exception": false,
     "start_time": "2023-06-01T21:41:58.834170",
     "status": "completed"
    },
    "tags": []
   },
   "outputs": [
    {
     "data": {
      "text/plain": [
       "id                        int64\n",
       "date                     object\n",
       "price                   float64\n",
       "bedrooms                  int64\n",
       "bathrooms               float64\n",
       "sqft_living               int64\n",
       "sqft_lot                  int64\n",
       "floors                  float64\n",
       "waterfront                int64\n",
       "view                      int64\n",
       "condition                 int64\n",
       "grade                     int64\n",
       "sqft_above                int64\n",
       "sqft_basement             int64\n",
       "yr_built                  int64\n",
       "yr_renovated              int64\n",
       "zipcode                   int64\n",
       "lat                     float64\n",
       "long                    float64\n",
       "sqft_living15             int64\n",
       "sqft_lot15                int64\n",
       "datetime         datetime64[ns]\n",
       "year                      int64\n",
       "month                     int64\n",
       "dtype: object"
      ]
     },
     "execution_count": 17,
     "metadata": {},
     "output_type": "execute_result"
    }
   ],
   "source": [
    "df.dtypes"
   ]
  },
  {
   "cell_type": "markdown",
   "id": "6edd5b70",
   "metadata": {
    "papermill": {
     "duration": 0.020514,
     "end_time": "2023-06-01T21:41:58.906949",
     "exception": false,
     "start_time": "2023-06-01T21:41:58.886435",
     "status": "completed"
    },
    "tags": []
   },
   "source": [
    "# 4.**Exploratory data analysis**"
   ]
  },
  {
   "cell_type": "code",
   "execution_count": 18,
   "id": "05f9132e",
   "metadata": {
    "execution": {
     "iopub.execute_input": "2023-06-01T21:41:58.949907Z",
     "iopub.status.busy": "2023-06-01T21:41:58.949496Z",
     "iopub.status.idle": "2023-06-01T21:42:00.277735Z",
     "shell.execute_reply": "2023-06-01T21:42:00.276596Z"
    },
    "id": "YVcvLZguLERS",
    "outputId": "62f89fff-7c5a-4fea-8978-b955adcfd5ab",
    "papermill": {
     "duration": 1.353093,
     "end_time": "2023-06-01T21:42:00.280531",
     "exception": false,
     "start_time": "2023-06-01T21:41:58.927438",
     "status": "completed"
    },
    "tags": []
   },
   "outputs": [
    {
     "data": {
      "text/plain": [
       "<Axes: >"
      ]
     },
     "execution_count": 18,
     "metadata": {},
     "output_type": "execute_result"
    },
    {
     "data": {
      "image/png": "[encoded data removed]",
      "text/plain": [
       "<Figure size 400x400 with 2 Axes>"
      ]
     },
     "metadata": {},
     "output_type": "display_data"
    }
   ],
   "source": [
    "import matplotlib.pyplot  as plt \n",
    "import seaborn as sns \n",
    "plt.figure(figsize=[4, 4])\n",
    "sns.heatmap( df.isna())"
   ]
  },
  {
   "cell_type": "code",
   "execution_count": 19,
   "id": "2c50972f",
   "metadata": {
    "execution": {
     "iopub.execute_input": "2023-06-01T21:42:00.324999Z",
     "iopub.status.busy": "2023-06-01T21:42:00.324312Z",
     "iopub.status.idle": "2023-06-01T21:42:00.577440Z",
     "shell.execute_reply": "2023-06-01T21:42:00.576425Z"
    },
    "id": "Ch5LAQ45PLt8",
    "outputId": "d42252cc-6807-4d8f-968a-cd72db95f865",
    "papermill": {
     "duration": 0.278245,
     "end_time": "2023-06-01T21:42:00.579950",
     "exception": false,
     "start_time": "2023-06-01T21:42:00.301705",
     "status": "completed"
    },
    "tags": []
   },
   "outputs": [
    {
     "data": {
      "image/png": "[encoded data removed]",
      "text/plain": [
       "<Figure size 700x500 with 1 Axes>"
      ]
     },
     "metadata": {},
     "output_type": "display_data"
    }
   ],
   "source": [
    "# Create a box plot\n",
    "plt.figure(figsize=[7,5])\n",
    "plt.boxplot(df['bedrooms'])\n",
    "\n",
    "# Add labels and title\n",
    "plt.xlabel('Bed Rooms')\n",
    "plt.ylabel('Count')\n",
    "plt.title('Box Plot of View No Bedrooms')\n",
    "\n",
    "# Show the plot\n",
    "plt.show()"
   ]
  },
  {
   "cell_type": "code",
   "execution_count": 20,
   "id": "cf3c9e7a",
   "metadata": {
    "execution": {
     "iopub.execute_input": "2023-06-01T21:42:00.624422Z",
     "iopub.status.busy": "2023-06-01T21:42:00.624033Z",
     "iopub.status.idle": "2023-06-01T21:42:00.631668Z",
     "shell.execute_reply": "2023-06-01T21:42:00.630820Z"
    },
    "id": "8sz0tIhoUZkl",
    "papermill": {
     "duration": 0.032118,
     "end_time": "2023-06-01T21:42:00.633614",
     "exception": false,
     "start_time": "2023-06-01T21:42:00.601496",
     "status": "completed"
    },
    "tags": []
   },
   "outputs": [],
   "source": [
    "houses_per_year = df.groupby('yr_built')['id'].count()"
   ]
  },
  {
   "cell_type": "code",
   "execution_count": 21,
   "id": "903cbad6",
   "metadata": {
    "execution": {
     "iopub.execute_input": "2023-06-01T21:42:00.679842Z",
     "iopub.status.busy": "2023-06-01T21:42:00.679098Z",
     "iopub.status.idle": "2023-06-01T21:42:01.089915Z",
     "shell.execute_reply": "2023-06-01T21:42:01.089111Z"
    },
    "id": "A8OTwMp8EPYY",
    "outputId": "0e3a4c4c-ee86-4a99-94d9-1c072103ba5c",
    "papermill": {
     "duration": 0.436076,
     "end_time": "2023-06-01T21:42:01.092076",
     "exception": false,
     "start_time": "2023-06-01T21:42:00.656000",
     "status": "completed"
    },
    "tags": []
   },
   "outputs": [
    {
     "data": {
      "text/plain": [
       "<Axes: xlabel='price', ylabel='sqft_living'>"
      ]
     },
     "execution_count": 21,
     "metadata": {},
     "output_type": "execute_result"
    },
    {
     "data": {
      "image/png": "[encoded data removed]",
      "text/plain": [
       "<Figure size 640x480 with 1 Axes>"
      ]
     },
     "metadata": {},
     "output_type": "display_data"
    }
   ],
   "source": [
    "plt.figure()\n",
    "sns.scatterplot(x='price',y='sqft_living',data=df)"
   ]
  },
  {
   "cell_type": "code",
   "execution_count": 22,
   "id": "632648cc",
   "metadata": {
    "execution": {
     "iopub.execute_input": "2023-06-01T21:42:01.140551Z",
     "iopub.status.busy": "2023-06-01T21:42:01.139847Z",
     "iopub.status.idle": "2023-06-01T21:42:01.409852Z",
     "shell.execute_reply": "2023-06-01T21:42:01.409012Z"
    },
    "id": "GcS5litGTjKo",
    "outputId": "f5698350-9bfb-4765-fd5b-7a06d52a2da5",
    "papermill": {
     "duration": 0.296931,
     "end_time": "2023-06-01T21:42:01.412043",
     "exception": false,
     "start_time": "2023-06-01T21:42:01.115112",
     "status": "completed"
    },
    "tags": []
   },
   "outputs": [
    {
     "data": {
      "image/png": "[encoded data removed]",
      "text/plain": [
       "<Figure size 400x300 with 1 Axes>"
      ]
     },
     "metadata": {},
     "output_type": "display_data"
    }
   ],
   "source": [
    "plt.figure(figsize=[4, 3])\n",
    "plt.plot(houses_per_year.index,houses_per_year.values)\n",
    "# Add labels and title\n",
    "plt.xlabel('Year')\n",
    "plt.ylabel('Number of Houses')\n",
    "plt.title('Number of Houses per Year')\n",
    "plt.show()"
   ]
  },
  {
   "cell_type": "markdown",
   "id": "96d363f5",
   "metadata": {
    "papermill": {
     "duration": 0.023364,
     "end_time": "2023-06-01T21:42:01.459029",
     "exception": false,
     "start_time": "2023-06-01T21:42:01.435665",
     "status": "completed"
    },
    "tags": []
   },
   "source": [
    "# 5.Largest Number Of bedrooms in house "
   ]
  },
  {
   "cell_type": "code",
   "execution_count": 23,
   "id": "d0167392",
   "metadata": {
    "execution": {
     "iopub.execute_input": "2023-06-01T21:42:01.508163Z",
     "iopub.status.busy": "2023-06-01T21:42:01.507718Z",
     "iopub.status.idle": "2023-06-01T21:42:01.516791Z",
     "shell.execute_reply": "2023-06-01T21:42:01.515689Z"
    },
    "id": "pJ1b5Ev1Qgxr",
    "outputId": "8870f4d8-560c-4e78-dd63-e0e95aa1f79a",
    "papermill": {
     "duration": 0.036453,
     "end_time": "2023-06-01T21:42:01.519065",
     "exception": false,
     "start_time": "2023-06-01T21:42:01.482612",
     "status": "completed"
    },
    "tags": []
   },
   "outputs": [
    {
     "name": "stdout",
     "output_type": "stream",
     "text": [
      "largest number of bedrooms in dataset =  33\n"
     ]
    }
   ],
   "source": [
    "print(\"largest number of bedrooms in dataset = \",max(df['bedrooms']))"
   ]
  },
  {
   "cell_type": "markdown",
   "id": "446a8704",
   "metadata": {
    "papermill": {
     "duration": 0.023354,
     "end_time": "2023-06-01T21:42:01.565989",
     "exception": false,
     "start_time": "2023-06-01T21:42:01.542635",
     "status": "completed"
    },
    "tags": []
   },
   "source": [
    "# 6.The Oldest and the Newest hose in Data  "
   ]
  },
  {
   "cell_type": "code",
   "execution_count": 24,
   "id": "74303aed",
   "metadata": {
    "execution": {
     "iopub.execute_input": "2023-06-01T21:42:01.615188Z",
     "iopub.status.busy": "2023-06-01T21:42:01.614776Z",
     "iopub.status.idle": "2023-06-01T21:42:01.621043Z",
     "shell.execute_reply": "2023-06-01T21:42:01.620212Z"
    },
    "id": "pq__cr3fRraW",
    "outputId": "c2d1c675-ab1b-456e-d319-d4d8b30f5303",
    "papermill": {
     "duration": 0.033588,
     "end_time": "2023-06-01T21:42:01.623183",
     "exception": false,
     "start_time": "2023-06-01T21:42:01.589595",
     "status": "completed"
    },
    "tags": []
   },
   "outputs": [
    {
     "name": "stdout",
     "output_type": "stream",
     "text": [
      "The oldest House :  1900\n",
      "The New house    :  2015\n"
     ]
    }
   ],
   "source": [
    "print('The oldest House : ', df['yr_built'].min())\n",
    "print('The New house    : ', df['yr_built'].max())"
   ]
  },
  {
   "cell_type": "markdown",
   "id": "3ff684aa",
   "metadata": {
    "papermill": {
     "duration": 0.023737,
     "end_time": "2023-06-01T21:42:01.670886",
     "exception": false,
     "start_time": "2023-06-01T21:42:01.647149",
     "status": "completed"
    },
    "tags": []
   },
   "source": [
    "# 7.Unique Years of Building House "
   ]
  },
  {
   "cell_type": "code",
   "execution_count": 25,
   "id": "4738a419",
   "metadata": {
    "execution": {
     "iopub.execute_input": "2023-06-01T21:42:01.725310Z",
     "iopub.status.busy": "2023-06-01T21:42:01.724309Z",
     "iopub.status.idle": "2023-06-01T21:42:01.732243Z",
     "shell.execute_reply": "2023-06-01T21:42:01.731258Z"
    },
    "id": "h5_FyUxHSt74",
    "outputId": "5de16fad-b376-410a-ec39-498ab1d639fa",
    "papermill": {
     "duration": 0.034824,
     "end_time": "2023-06-01T21:42:01.734381",
     "exception": false,
     "start_time": "2023-06-01T21:42:01.699557",
     "status": "completed"
    },
    "tags": []
   },
   "outputs": [
    {
     "data": {
      "text/plain": [
       "array([1955, 1951, 1933, 1965, 1987, 2001, 1995, 1963, 1960, 2003, 1942,\n",
       "       1927, 1977, 1900, 1979, 1994, 1916, 1921, 1969, 1947, 1968, 1985,\n",
       "       1941, 1915, 1909, 1948, 2005, 1929, 1981, 1930, 1904, 1996, 2000,\n",
       "       1984, 2014, 1922, 1959, 1966, 1953, 1950, 2008, 1991, 1954, 1973,\n",
       "       1925, 1989, 1972, 1986, 1956, 2002, 1992, 1964, 1952, 1961, 2006,\n",
       "       1988, 1962, 1939, 1946, 1967, 1975, 1980, 1910, 1983, 1978, 1905,\n",
       "       1971, 2010, 1945, 1924, 1990, 1914, 1926, 2004, 1923, 2007, 1976,\n",
       "       1949, 1999, 1901, 1993, 1920, 1997, 1943, 1957, 1940, 1918, 1928,\n",
       "       1974, 1911, 1936, 1937, 1982, 1908, 1931, 1998, 1913, 2013, 1907,\n",
       "       1958, 2012, 1912, 2011, 1917, 1932, 1944, 1902, 2009, 1903, 1970,\n",
       "       2015, 1934, 1938, 1919, 1906, 1935])"
      ]
     },
     "execution_count": 25,
     "metadata": {},
     "output_type": "execute_result"
    }
   ],
   "source": [
    "year_unique=df['yr_built'].unique()\n",
    "year_unique"
   ]
  },
  {
   "cell_type": "markdown",
   "id": "ebc9458d",
   "metadata": {
    "papermill": {
     "duration": 0.023491,
     "end_time": "2023-06-01T21:42:01.781269",
     "exception": false,
     "start_time": "2023-06-01T21:42:01.757778",
     "status": "completed"
    },
    "tags": []
   },
   "source": [
    "# 8.price correlation matrix"
   ]
  },
  {
   "cell_type": "code",
   "execution_count": 26,
   "id": "22f73995",
   "metadata": {
    "execution": {
     "iopub.execute_input": "2023-06-01T21:42:01.830864Z",
     "iopub.status.busy": "2023-06-01T21:42:01.830226Z",
     "iopub.status.idle": "2023-06-01T21:42:02.722630Z",
     "shell.execute_reply": "2023-06-01T21:42:02.721506Z"
    },
    "id": "nxzKIoX0atuc",
    "outputId": "60457988-f2d0-4398-8a42-158782df02ab",
    "papermill": {
     "duration": 0.92013,
     "end_time": "2023-06-01T21:42:02.725123",
     "exception": false,
     "start_time": "2023-06-01T21:42:01.804993",
     "status": "completed"
    },
    "tags": []
   },
   "outputs": [
    {
     "name": "stderr",
     "output_type": "stream",
     "text": [
      "/tmp/ipykernel_20/2951835314.py:3: FutureWarning: The default value of numeric_only in DataFrame.corr is deprecated. In a future version, it will default to False. Select only valid columns or specify the value of numeric_only to silence this warning.\n",
      "  corr = df.corr()\n"
     ]
    },
    {
     "data": {
      "image/png": "[encoded data removed]",
      "text/plain": [
       "<Figure size 700x500 with 2 Axes>"
      ]
     },
     "metadata": {},
     "output_type": "display_data"
    }
   ],
   "source": [
    "# price correlation matrix\n",
    "\n",
    "corr = df.corr()\n",
    "k = 10 #number of coulmns for heatmap\n",
    "cols = corr.nlargest(k, 'price')['price'].index\n",
    "cm = np.corrcoef(df[cols].values.T)\n",
    "\n",
    "with sns.axes_style(\"white\"):\n",
    "    f, ax = plt.subplots(figsize=(7,5))\n",
    "    sns.set(font_scale=0.8)\n",
    "    ax = sns.heatmap(cm,cbar=True, square=True, annot=True,fmt='0.2f',linewidths=.8,\n",
    "                     cmap=\"viridis_r\", annot_kws={'size': 8}, yticklabels=cols.values,\n",
    "                     xticklabels=cols.values)"
   ]
  },
  {
   "cell_type": "code",
   "execution_count": 27,
   "id": "0889af4e",
   "metadata": {
    "execution": {
     "iopub.execute_input": "2023-06-01T21:42:02.778058Z",
     "iopub.status.busy": "2023-06-01T21:42:02.777095Z",
     "iopub.status.idle": "2023-06-01T21:42:02.783471Z",
     "shell.execute_reply": "2023-06-01T21:42:02.782695Z"
    },
    "id": "kn2O5FThhApf",
    "outputId": "92f3a12a-cd21-483e-a4a6-fc5d0731adf2",
    "papermill": {
     "duration": 0.035301,
     "end_time": "2023-06-01T21:42:02.785504",
     "exception": false,
     "start_time": "2023-06-01T21:42:02.750203",
     "status": "completed"
    },
    "tags": []
   },
   "outputs": [
    {
     "data": {
      "text/plain": [
       "Index(['id', 'date', 'price', 'bedrooms', 'bathrooms', 'sqft_living',\n",
       "       'sqft_lot', 'floors', 'waterfront', 'view', 'condition', 'grade',\n",
       "       'sqft_above', 'sqft_basement', 'yr_built', 'yr_renovated', 'zipcode',\n",
       "       'lat', 'long', 'sqft_living15', 'sqft_lot15', 'datetime', 'year',\n",
       "       'month'],\n",
       "      dtype='object')"
      ]
     },
     "execution_count": 27,
     "metadata": {},
     "output_type": "execute_result"
    }
   ],
   "source": [
    "df.columns"
   ]
  },
  {
   "cell_type": "markdown",
   "id": "f79ffdd5",
   "metadata": {
    "papermill": {
     "duration": 0.025066,
     "end_time": "2023-06-01T21:42:02.835942",
     "exception": false,
     "start_time": "2023-06-01T21:42:02.810876",
     "status": "completed"
    },
    "tags": []
   },
   "source": [
    "# 9.Drop unused Columns "
   ]
  },
  {
   "cell_type": "code",
   "execution_count": 28,
   "id": "145ec646",
   "metadata": {
    "execution": {
     "iopub.execute_input": "2023-06-01T21:42:02.889086Z",
     "iopub.status.busy": "2023-06-01T21:42:02.888656Z",
     "iopub.status.idle": "2023-06-01T21:42:02.895797Z",
     "shell.execute_reply": "2023-06-01T21:42:02.894670Z"
    },
    "id": "_hK9TIOkhFmG",
    "papermill": {
     "duration": 0.036857,
     "end_time": "2023-06-01T21:42:02.898003",
     "exception": false,
     "start_time": "2023-06-01T21:42:02.861146",
     "status": "completed"
    },
    "tags": []
   },
   "outputs": [],
   "source": [
    "df.drop(columns=['id', 'date', 'datetime'], inplace=True)"
   ]
  },
  {
   "cell_type": "code",
   "execution_count": 29,
   "id": "28bda362",
   "metadata": {
    "execution": {
     "iopub.execute_input": "2023-06-01T21:42:02.950489Z",
     "iopub.status.busy": "2023-06-01T21:42:02.950105Z",
     "iopub.status.idle": "2023-06-01T21:42:02.957949Z",
     "shell.execute_reply": "2023-06-01T21:42:02.956846Z"
    },
    "id": "qEj2uXSDhbwd",
    "outputId": "93591ccb-747a-4fc2-811c-c0f6c71df77d",
    "papermill": {
     "duration": 0.036722,
     "end_time": "2023-06-01T21:42:02.960192",
     "exception": false,
     "start_time": "2023-06-01T21:42:02.923470",
     "status": "completed"
    },
    "tags": []
   },
   "outputs": [
    {
     "data": {
      "text/plain": [
       "Index(['price', 'bedrooms', 'bathrooms', 'sqft_living', 'sqft_lot', 'floors',\n",
       "       'waterfront', 'view', 'condition', 'grade', 'sqft_above',\n",
       "       'sqft_basement', 'yr_built', 'yr_renovated', 'zipcode', 'lat', 'long',\n",
       "       'sqft_living15', 'sqft_lot15', 'year', 'month'],\n",
       "      dtype='object')"
      ]
     },
     "execution_count": 29,
     "metadata": {},
     "output_type": "execute_result"
    }
   ],
   "source": [
    "df.columns\n"
   ]
  },
  {
   "cell_type": "markdown",
   "id": "bde8f6fb",
   "metadata": {
    "papermill": {
     "duration": 0.025599,
     "end_time": "2023-06-01T21:42:03.012131",
     "exception": false,
     "start_time": "2023-06-01T21:42:02.986532",
     "status": "completed"
    },
    "tags": []
   },
   "source": [
    "# 10.Spliting Data To building Model"
   ]
  },
  {
   "cell_type": "code",
   "execution_count": 30,
   "id": "38286c83",
   "metadata": {
    "execution": {
     "iopub.execute_input": "2023-06-01T21:42:03.065985Z",
     "iopub.status.busy": "2023-06-01T21:42:03.065092Z",
     "iopub.status.idle": "2023-06-01T21:42:03.072127Z",
     "shell.execute_reply": "2023-06-01T21:42:03.071291Z"
    },
    "id": "H4q1n7R9nLDb",
    "papermill": {
     "duration": 0.03668,
     "end_time": "2023-06-01T21:42:03.074502",
     "exception": false,
     "start_time": "2023-06-01T21:42:03.037822",
     "status": "completed"
    },
    "tags": []
   },
   "outputs": [],
   "source": [
    "#X = df.drop(['price'],axis=1) #test data \n",
    "\n",
    "X = df.drop(['price'],axis=1) #test data \n",
    "\n",
    "y = df['price']"
   ]
  },
  {
   "cell_type": "markdown",
   "id": "9bbacced",
   "metadata": {
    "papermill": {
     "duration": 0.024914,
     "end_time": "2023-06-01T21:42:03.124932",
     "exception": false,
     "start_time": "2023-06-01T21:42:03.100018",
     "status": "completed"
    },
    "tags": []
   },
   "source": [
    "# 11. Trainig=80% , Testing=20%."
   ]
  },
  {
   "cell_type": "code",
   "execution_count": 31,
   "id": "050a0595",
   "metadata": {
    "execution": {
     "iopub.execute_input": "2023-06-01T21:42:03.179193Z",
     "iopub.status.busy": "2023-06-01T21:42:03.178431Z",
     "iopub.status.idle": "2023-06-01T21:42:03.450399Z",
     "shell.execute_reply": "2023-06-01T21:42:03.449202Z"
    },
    "id": "aPpJ14EHdTRl",
    "papermill": {
     "duration": 0.30172,
     "end_time": "2023-06-01T21:42:03.453160",
     "exception": false,
     "start_time": "2023-06-01T21:42:03.151440",
     "status": "completed"
    },
    "tags": []
   },
   "outputs": [],
   "source": [
    "from sklearn.model_selection import train_test_split\n",
    "x_train,x_test,y_train,y_test=train_test_split(X,y,test_size=0.2, random_state=2)"
   ]
  },
  {
   "cell_type": "code",
   "execution_count": 32,
   "id": "e764ba88",
   "metadata": {
    "execution": {
     "iopub.execute_input": "2023-06-01T21:42:03.506165Z",
     "iopub.status.busy": "2023-06-01T21:42:03.505730Z",
     "iopub.status.idle": "2023-06-01T21:42:03.534028Z",
     "shell.execute_reply": "2023-06-01T21:42:03.532892Z"
    },
    "id": "hFLaNUdc3qqG",
    "outputId": "f4ad4518-5c04-48ee-d53e-4b89918478ed",
    "papermill": {
     "duration": 0.057528,
     "end_time": "2023-06-01T21:42:03.536269",
     "exception": false,
     "start_time": "2023-06-01T21:42:03.478741",
     "status": "completed"
    },
    "tags": []
   },
   "outputs": [
    {
     "data": {
      "text/html": [
       "<div>\n",
       "<style scoped>\n",
       "    .dataframe tbody tr th:only-of-type {\n",
       "        vertical-align: middle;\n",
       "    }\n",
       "\n",
       "    .dataframe tbody tr th {\n",
       "        vertical-align: top;\n",
       "    }\n",
       "\n",
       "    .dataframe thead th {\n",
       "        text-align: right;\n",
       "    }\n",
       "</style>\n",
       "<table border=\"1\" class=\"dataframe\">\n",
       "  <thead>\n",
       "    <tr style=\"text-align: right;\">\n",
       "      <th></th>\n",
       "      <th>bedrooms</th>\n",
       "      <th>bathrooms</th>\n",
       "      <th>sqft_living</th>\n",
       "      <th>sqft_lot</th>\n",
       "      <th>floors</th>\n",
       "      <th>waterfront</th>\n",
       "      <th>view</th>\n",
       "      <th>condition</th>\n",
       "      <th>grade</th>\n",
       "      <th>sqft_above</th>\n",
       "      <th>sqft_basement</th>\n",
       "      <th>yr_built</th>\n",
       "      <th>yr_renovated</th>\n",
       "      <th>zipcode</th>\n",
       "      <th>lat</th>\n",
       "      <th>long</th>\n",
       "      <th>sqft_living15</th>\n",
       "      <th>sqft_lot15</th>\n",
       "      <th>year</th>\n",
       "      <th>month</th>\n",
       "    </tr>\n",
       "  </thead>\n",
       "  <tbody>\n",
       "    <tr>\n",
       "      <th>15166</th>\n",
       "      <td>4</td>\n",
       "      <td>4.00</td>\n",
       "      <td>3860</td>\n",
       "      <td>67953</td>\n",
       "      <td>2.0</td>\n",
       "      <td>0</td>\n",
       "      <td>2</td>\n",
       "      <td>4</td>\n",
       "      <td>12</td>\n",
       "      <td>3860</td>\n",
       "      <td>0</td>\n",
       "      <td>1927</td>\n",
       "      <td>0</td>\n",
       "      <td>98177</td>\n",
       "      <td>47.7469</td>\n",
       "      <td>-122.378</td>\n",
       "      <td>4410</td>\n",
       "      <td>128066</td>\n",
       "      <td>2015</td>\n",
       "      <td>1</td>\n",
       "    </tr>\n",
       "    <tr>\n",
       "      <th>13416</th>\n",
       "      <td>4</td>\n",
       "      <td>2.00</td>\n",
       "      <td>1920</td>\n",
       "      <td>7803</td>\n",
       "      <td>1.0</td>\n",
       "      <td>0</td>\n",
       "      <td>0</td>\n",
       "      <td>3</td>\n",
       "      <td>7</td>\n",
       "      <td>1080</td>\n",
       "      <td>840</td>\n",
       "      <td>1962</td>\n",
       "      <td>0</td>\n",
       "      <td>98155</td>\n",
       "      <td>47.7580</td>\n",
       "      <td>-122.325</td>\n",
       "      <td>1940</td>\n",
       "      <td>8147</td>\n",
       "      <td>2014</td>\n",
       "      <td>12</td>\n",
       "    </tr>\n",
       "    <tr>\n",
       "      <th>206</th>\n",
       "      <td>3</td>\n",
       "      <td>2.50</td>\n",
       "      <td>2440</td>\n",
       "      <td>4587</td>\n",
       "      <td>2.0</td>\n",
       "      <td>0</td>\n",
       "      <td>0</td>\n",
       "      <td>3</td>\n",
       "      <td>8</td>\n",
       "      <td>2440</td>\n",
       "      <td>0</td>\n",
       "      <td>2010</td>\n",
       "      <td>0</td>\n",
       "      <td>98052</td>\n",
       "      <td>47.7073</td>\n",
       "      <td>-122.114</td>\n",
       "      <td>2750</td>\n",
       "      <td>4587</td>\n",
       "      <td>2014</td>\n",
       "      <td>9</td>\n",
       "    </tr>\n",
       "    <tr>\n",
       "      <th>4286</th>\n",
       "      <td>3</td>\n",
       "      <td>2.75</td>\n",
       "      <td>1910</td>\n",
       "      <td>15508</td>\n",
       "      <td>1.0</td>\n",
       "      <td>0</td>\n",
       "      <td>0</td>\n",
       "      <td>3</td>\n",
       "      <td>8</td>\n",
       "      <td>1210</td>\n",
       "      <td>700</td>\n",
       "      <td>1984</td>\n",
       "      <td>0</td>\n",
       "      <td>98023</td>\n",
       "      <td>47.3128</td>\n",
       "      <td>-122.345</td>\n",
       "      <td>2450</td>\n",
       "      <td>7989</td>\n",
       "      <td>2015</td>\n",
       "      <td>3</td>\n",
       "    </tr>\n",
       "    <tr>\n",
       "      <th>18065</th>\n",
       "      <td>4</td>\n",
       "      <td>2.50</td>\n",
       "      <td>2130</td>\n",
       "      <td>9100</td>\n",
       "      <td>1.0</td>\n",
       "      <td>0</td>\n",
       "      <td>0</td>\n",
       "      <td>3</td>\n",
       "      <td>8</td>\n",
       "      <td>1290</td>\n",
       "      <td>840</td>\n",
       "      <td>1978</td>\n",
       "      <td>0</td>\n",
       "      <td>98030</td>\n",
       "      <td>47.3815</td>\n",
       "      <td>-122.169</td>\n",
       "      <td>1770</td>\n",
       "      <td>7700</td>\n",
       "      <td>2014</td>\n",
       "      <td>9</td>\n",
       "    </tr>\n",
       "    <tr>\n",
       "      <th>...</th>\n",
       "      <td>...</td>\n",
       "      <td>...</td>\n",
       "      <td>...</td>\n",
       "      <td>...</td>\n",
       "      <td>...</td>\n",
       "      <td>...</td>\n",
       "      <td>...</td>\n",
       "      <td>...</td>\n",
       "      <td>...</td>\n",
       "      <td>...</td>\n",
       "      <td>...</td>\n",
       "      <td>...</td>\n",
       "      <td>...</td>\n",
       "      <td>...</td>\n",
       "      <td>...</td>\n",
       "      <td>...</td>\n",
       "      <td>...</td>\n",
       "      <td>...</td>\n",
       "      <td>...</td>\n",
       "      <td>...</td>\n",
       "    </tr>\n",
       "    <tr>\n",
       "      <th>1099</th>\n",
       "      <td>2</td>\n",
       "      <td>1.00</td>\n",
       "      <td>720</td>\n",
       "      <td>4222</td>\n",
       "      <td>1.0</td>\n",
       "      <td>0</td>\n",
       "      <td>0</td>\n",
       "      <td>4</td>\n",
       "      <td>5</td>\n",
       "      <td>720</td>\n",
       "      <td>0</td>\n",
       "      <td>1942</td>\n",
       "      <td>0</td>\n",
       "      <td>98056</td>\n",
       "      <td>47.4965</td>\n",
       "      <td>-122.186</td>\n",
       "      <td>860</td>\n",
       "      <td>4785</td>\n",
       "      <td>2014</td>\n",
       "      <td>5</td>\n",
       "    </tr>\n",
       "    <tr>\n",
       "      <th>18898</th>\n",
       "      <td>4</td>\n",
       "      <td>2.50</td>\n",
       "      <td>1820</td>\n",
       "      <td>9161</td>\n",
       "      <td>1.0</td>\n",
       "      <td>0</td>\n",
       "      <td>0</td>\n",
       "      <td>4</td>\n",
       "      <td>7</td>\n",
       "      <td>1220</td>\n",
       "      <td>600</td>\n",
       "      <td>1975</td>\n",
       "      <td>0</td>\n",
       "      <td>98058</td>\n",
       "      <td>47.4333</td>\n",
       "      <td>-122.168</td>\n",
       "      <td>1860</td>\n",
       "      <td>7650</td>\n",
       "      <td>2014</td>\n",
       "      <td>8</td>\n",
       "    </tr>\n",
       "    <tr>\n",
       "      <th>11798</th>\n",
       "      <td>4</td>\n",
       "      <td>3.25</td>\n",
       "      <td>3440</td>\n",
       "      <td>7661</td>\n",
       "      <td>2.0</td>\n",
       "      <td>0</td>\n",
       "      <td>0</td>\n",
       "      <td>3</td>\n",
       "      <td>11</td>\n",
       "      <td>3440</td>\n",
       "      <td>0</td>\n",
       "      <td>2006</td>\n",
       "      <td>0</td>\n",
       "      <td>98029</td>\n",
       "      <td>47.5429</td>\n",
       "      <td>-121.995</td>\n",
       "      <td>3580</td>\n",
       "      <td>6478</td>\n",
       "      <td>2014</td>\n",
       "      <td>6</td>\n",
       "    </tr>\n",
       "    <tr>\n",
       "      <th>6637</th>\n",
       "      <td>2</td>\n",
       "      <td>1.50</td>\n",
       "      <td>870</td>\n",
       "      <td>747</td>\n",
       "      <td>2.0</td>\n",
       "      <td>0</td>\n",
       "      <td>0</td>\n",
       "      <td>3</td>\n",
       "      <td>8</td>\n",
       "      <td>800</td>\n",
       "      <td>70</td>\n",
       "      <td>2004</td>\n",
       "      <td>0</td>\n",
       "      <td>98103</td>\n",
       "      <td>47.6967</td>\n",
       "      <td>-122.342</td>\n",
       "      <td>1710</td>\n",
       "      <td>1280</td>\n",
       "      <td>2015</td>\n",
       "      <td>1</td>\n",
       "    </tr>\n",
       "    <tr>\n",
       "      <th>2575</th>\n",
       "      <td>3</td>\n",
       "      <td>2.50</td>\n",
       "      <td>2820</td>\n",
       "      <td>5001</td>\n",
       "      <td>2.0</td>\n",
       "      <td>0</td>\n",
       "      <td>0</td>\n",
       "      <td>3</td>\n",
       "      <td>9</td>\n",
       "      <td>2820</td>\n",
       "      <td>0</td>\n",
       "      <td>2004</td>\n",
       "      <td>0</td>\n",
       "      <td>98029</td>\n",
       "      <td>47.5533</td>\n",
       "      <td>-121.992</td>\n",
       "      <td>2660</td>\n",
       "      <td>5001</td>\n",
       "      <td>2014</td>\n",
       "      <td>11</td>\n",
       "    </tr>\n",
       "  </tbody>\n",
       "</table>\n",
       "<p>17290 rows × 20 columns</p>\n",
       "</div>"
      ],
      "text/plain": [
       "       bedrooms  bathrooms  sqft_living  sqft_lot  floors  waterfront  view  \\\n",
       "15166         4       4.00         3860     67953     2.0           0     2   \n",
       "13416         4       2.00         1920      7803     1.0           0     0   \n",
       "206           3       2.50         2440      4587     2.0           0     0   \n",
       "4286          3       2.75         1910     15508     1.0           0     0   \n",
       "18065         4       2.50         2130      9100     1.0           0     0   \n",
       "...         ...        ...          ...       ...     ...         ...   ...   \n",
       "1099          2       1.00          720      4222     1.0           0     0   \n",
       "18898         4       2.50         1820      9161     1.0           0     0   \n",
       "11798         4       3.25         3440      7661     2.0           0     0   \n",
       "6637          2       1.50          870       747     2.0           0     0   \n",
       "2575          3       2.50         2820      5001     2.0           0     0   \n",
       "\n",
       "       condition  grade  sqft_above  sqft_basement  yr_built  yr_renovated  \\\n",
       "15166          4     12        3860              0      1927             0   \n",
       "13416          3      7        1080            840      1962             0   \n",
       "206            3      8        2440              0      2010             0   \n",
       "4286           3      8        1210            700      1984             0   \n",
       "18065          3      8        1290            840      1978             0   \n",
       "...          ...    ...         ...            ...       ...           ...   \n",
       "1099           4      5         720              0      1942             0   \n",
       "18898          4      7        1220            600      1975             0   \n",
       "11798          3     11        3440              0      2006             0   \n",
       "6637           3      8         800             70      2004             0   \n",
       "2575           3      9        2820              0      2004             0   \n",
       "\n",
       "       zipcode      lat     long  sqft_living15  sqft_lot15  year  month  \n",
       "15166    98177  47.7469 -122.378           4410      128066  2015      1  \n",
       "13416    98155  47.7580 -122.325           1940        8147  2014     12  \n",
       "206      98052  47.7073 -122.114           2750        4587  2014      9  \n",
       "4286     98023  47.3128 -122.345           2450        7989  2015      3  \n",
       "18065    98030  47.3815 -122.169           1770        7700  2014      9  \n",
       "...        ...      ...      ...            ...         ...   ...    ...  \n",
       "1099     98056  47.4965 -122.186            860        4785  2014      5  \n",
       "18898    98058  47.4333 -122.168           1860        7650  2014      8  \n",
       "11798    98029  47.5429 -121.995           3580        6478  2014      6  \n",
       "6637     98103  47.6967 -122.342           1710        1280  2015      1  \n",
       "2575     98029  47.5533 -121.992           2660        5001  2014     11  \n",
       "\n",
       "[17290 rows x 20 columns]"
      ]
     },
     "execution_count": 32,
     "metadata": {},
     "output_type": "execute_result"
    }
   ],
   "source": [
    "x_train"
   ]
  },
  {
   "cell_type": "code",
   "execution_count": 33,
   "id": "a3812de5",
   "metadata": {
    "execution": {
     "iopub.execute_input": "2023-06-01T21:42:03.589927Z",
     "iopub.status.busy": "2023-06-01T21:42:03.589501Z",
     "iopub.status.idle": "2023-06-01T21:42:03.596041Z",
     "shell.execute_reply": "2023-06-01T21:42:03.594803Z"
    },
    "id": "wY0mSZAjxmoi",
    "outputId": "121ff5b5-78bd-433a-e12e-7e65e3bd5667",
    "papermill": {
     "duration": 0.036073,
     "end_time": "2023-06-01T21:42:03.598145",
     "exception": false,
     "start_time": "2023-06-01T21:42:03.562072",
     "status": "completed"
    },
    "tags": []
   },
   "outputs": [
    {
     "name": "stdout",
     "output_type": "stream",
     "text": [
      "Test Data =  (4323, 20)\n",
      "Train Data =  (17290, 20)\n",
      "Target Train =  (17290,)\n",
      "Target Test =  (4323,)\n"
     ]
    }
   ],
   "source": [
    "print(\"Test Data = \",x_test.shape)\n",
    "print(\"Train Data = \",x_train.shape)\n",
    "print(\"Target Train = \",y_train.shape)\n",
    "print(\"Target Test = \",y_test.shape)"
   ]
  },
  {
   "cell_type": "code",
   "execution_count": 34,
   "id": "0fb06bfb",
   "metadata": {
    "execution": {
     "iopub.execute_input": "2023-06-01T21:42:03.651655Z",
     "iopub.status.busy": "2023-06-01T21:42:03.650889Z",
     "iopub.status.idle": "2023-06-01T21:42:03.660408Z",
     "shell.execute_reply": "2023-06-01T21:42:03.659312Z"
    },
    "id": "K8XQa8u73wDM",
    "outputId": "44de551c-6532-434d-b38a-ba067ed125a6",
    "papermill": {
     "duration": 0.038829,
     "end_time": "2023-06-01T21:42:03.662578",
     "exception": false,
     "start_time": "2023-06-01T21:42:03.623749",
     "status": "completed"
    },
    "tags": []
   },
   "outputs": [
    {
     "data": {
      "text/plain": [
       "15166    1755000.0\n",
       "13416     360000.0\n",
       "206       677900.0\n",
       "4286      300000.0\n",
       "18065     220000.0\n",
       "           ...    \n",
       "1099      151000.0\n",
       "18898     325000.0\n",
       "11798     905000.0\n",
       "6637      313000.0\n",
       "2575      690000.0\n",
       "Name: price, Length: 17290, dtype: float64"
      ]
     },
     "execution_count": 34,
     "metadata": {},
     "output_type": "execute_result"
    }
   ],
   "source": [
    "y_train"
   ]
  },
  {
   "cell_type": "code",
   "execution_count": 35,
   "id": "add62f07",
   "metadata": {
    "execution": {
     "iopub.execute_input": "2023-06-01T21:42:03.716224Z",
     "iopub.status.busy": "2023-06-01T21:42:03.715795Z",
     "iopub.status.idle": "2023-06-01T21:42:03.731920Z",
     "shell.execute_reply": "2023-06-01T21:42:03.730693Z"
    },
    "id": "ZqtQFbE-rZGQ",
    "papermill": {
     "duration": 0.046129,
     "end_time": "2023-06-01T21:42:03.734469",
     "exception": false,
     "start_time": "2023-06-01T21:42:03.688340",
     "status": "completed"
    },
    "tags": []
   },
   "outputs": [],
   "source": [
    "from sklearn.preprocessing import StandardScaler \n",
    "# Standard Scaler\n",
    "std_scale = StandardScaler()\n",
    "X_train = std_scale.fit_transform(x_train)\n",
    "#X_train = pd.DataFrame(X_train, columns=df.columns)\n",
    "\n",
    "X_test = std_scale.transform(x_test)\n",
    "#X_test = pd.DataFrame(X_test, columns=df.columns)"
   ]
  },
  {
   "cell_type": "code",
   "execution_count": 36,
   "id": "f5a71328",
   "metadata": {
    "execution": {
     "iopub.execute_input": "2023-06-01T21:42:03.787643Z",
     "iopub.status.busy": "2023-06-01T21:42:03.787179Z",
     "iopub.status.idle": "2023-06-01T21:42:03.794893Z",
     "shell.execute_reply": "2023-06-01T21:42:03.793884Z"
    },
    "id": "WExHOEG8omPq",
    "outputId": "4b5cb843-f19a-4e1a-c8b1-49ee66a0323e",
    "papermill": {
     "duration": 0.036899,
     "end_time": "2023-06-01T21:42:03.796987",
     "exception": false,
     "start_time": "2023-06-01T21:42:03.760088",
     "status": "completed"
    },
    "tags": []
   },
   "outputs": [
    {
     "data": {
      "text/plain": [
       "array([[ 0.68095813,  2.45689305,  1.95989432, ...,  4.25588727,\n",
       "         1.43873465, -1.77890817],\n",
       "       [ 0.68095813, -0.14628777, -0.16820792, ..., -0.16676007,\n",
       "        -0.6950552 ,  1.73650657],\n",
       "       [-0.39309461,  0.50450743,  0.40221123, ..., -0.2980539 ,\n",
       "        -0.6950552 ,  0.77775709],\n",
       "       ...,\n",
       "       [ 0.68095813,  1.48070024,  1.49917115, ..., -0.22831327,\n",
       "        -0.6950552 , -0.18099238],\n",
       "       [-1.46714735, -0.79708298, -1.32001584, ..., -0.42001701,\n",
       "         1.43873465, -1.77890817],\n",
       "       [-0.39309461,  0.50450743,  0.819056  , ..., -0.28278546,\n",
       "        -0.6950552 ,  1.41692341]])"
      ]
     },
     "execution_count": 36,
     "metadata": {},
     "output_type": "execute_result"
    }
   ],
   "source": [
    "X_train"
   ]
  },
  {
   "cell_type": "code",
   "execution_count": 37,
   "id": "30b0b97b",
   "metadata": {
    "execution": {
     "iopub.execute_input": "2023-06-01T21:42:03.850205Z",
     "iopub.status.busy": "2023-06-01T21:42:03.849752Z",
     "iopub.status.idle": "2023-06-01T21:42:03.857564Z",
     "shell.execute_reply": "2023-06-01T21:42:03.856408Z"
    },
    "id": "Aj2YQryYopn-",
    "outputId": "ea5389a9-c86b-4d92-b7e6-721764299469",
    "papermill": {
     "duration": 0.037225,
     "end_time": "2023-06-01T21:42:03.859951",
     "exception": false,
     "start_time": "2023-06-01T21:42:03.822726",
     "status": "completed"
    },
    "tags": []
   },
   "outputs": [
    {
     "data": {
      "text/plain": [
       "array([[ 0.68095813,  0.17910983,  0.36930244, ..., -0.2800932 ,\n",
       "         1.43873465, -0.8201587 ],\n",
       "       [-0.39309461, -0.79708298,  0.10603206, ...,  0.04449022,\n",
       "        -0.6950552 , -0.18099238],\n",
       "       [-1.46714735, -1.44787818, -0.68377908, ..., -0.23192754,\n",
       "        -0.6950552 ,  1.09734025],\n",
       "       ...,\n",
       "       [ 0.68095813,  0.50450743,  0.63257282, ..., -0.14083323,\n",
       "        -0.6950552 ,  0.45817393],\n",
       "       [-1.46714735, -1.44787818, -1.37486383, ..., -0.23672198,\n",
       "        -0.6950552 , -0.18099238],\n",
       "       [ 0.68095813,  0.82990504, -0.28887351, ..., -0.14721352,\n",
       "        -0.6950552 ,  1.09734025]])"
      ]
     },
     "execution_count": 37,
     "metadata": {},
     "output_type": "execute_result"
    }
   ],
   "source": [
    "X_test"
   ]
  },
  {
   "cell_type": "code",
   "execution_count": 38,
   "id": "d2302058",
   "metadata": {
    "execution": {
     "iopub.execute_input": "2023-06-01T21:42:03.914786Z",
     "iopub.status.busy": "2023-06-01T21:42:03.914412Z",
     "iopub.status.idle": "2023-06-01T21:42:03.923456Z",
     "shell.execute_reply": "2023-06-01T21:42:03.922370Z"
    },
    "id": "Hwn3SI2losgz",
    "outputId": "c8906b08-a553-4da9-f7de-bff20da1a5b4",
    "papermill": {
     "duration": 0.039115,
     "end_time": "2023-06-01T21:42:03.925568",
     "exception": false,
     "start_time": "2023-06-01T21:42:03.886453",
     "status": "completed"
    },
    "tags": []
   },
   "outputs": [
    {
     "data": {
      "text/plain": [
       "15166    1755000.0\n",
       "13416     360000.0\n",
       "206       677900.0\n",
       "4286      300000.0\n",
       "18065     220000.0\n",
       "           ...    \n",
       "1099      151000.0\n",
       "18898     325000.0\n",
       "11798     905000.0\n",
       "6637      313000.0\n",
       "2575      690000.0\n",
       "Name: price, Length: 17290, dtype: float64"
      ]
     },
     "execution_count": 38,
     "metadata": {},
     "output_type": "execute_result"
    }
   ],
   "source": [
    "y_train"
   ]
  },
  {
   "cell_type": "markdown",
   "id": "3a3d9411",
   "metadata": {
    "papermill": {
     "duration": 0.026779,
     "end_time": "2023-06-01T21:42:03.978930",
     "exception": false,
     "start_time": "2023-06-01T21:42:03.952151",
     "status": "completed"
    },
    "tags": []
   },
   "source": [
    "# 12. LinearRegression Algorithm"
   ]
  },
  {
   "cell_type": "code",
   "execution_count": 39,
   "id": "0041aba3",
   "metadata": {
    "execution": {
     "iopub.execute_input": "2023-06-01T21:42:04.033767Z",
     "iopub.status.busy": "2023-06-01T21:42:04.033364Z",
     "iopub.status.idle": "2023-06-01T21:42:04.185429Z",
     "shell.execute_reply": "2023-06-01T21:42:04.183804Z"
    },
    "id": "obA9pX6Po0Oq",
    "outputId": "0319cdfe-656a-4289-ffbd-46ee7ad4f407",
    "papermill": {
     "duration": 0.18389,
     "end_time": "2023-06-01T21:42:04.189448",
     "exception": false,
     "start_time": "2023-06-01T21:42:04.005558",
     "status": "completed"
    },
    "tags": []
   },
   "outputs": [
    {
     "data": {
      "text/html": [
       "<style>#sk-container-id-1 {color: black;background-color: white;}#sk-container-id-1 pre{padding: 0;}#sk-container-id-1 div.sk-toggleable {background-color: white;}#sk-container-id-1 label.sk-toggleable__label {cursor: pointer;display: block;width: 100%;margin-bottom: 0;padding: 0.3em;box-sizing: border-box;text-align: center;}#sk-container-id-1 label.sk-toggleable__label-arrow:before {content: \"▸\";float: left;margin-right: 0.25em;color: #696969;}#sk-container-id-1 label.sk-toggleable__label-arrow:hover:before {color: black;}#sk-container-id-1 div.sk-estimator:hover label.sk-toggleable__label-arrow:before {color: black;}#sk-container-id-1 div.sk-toggleable__content {max-height: 0;max-width: 0;overflow: hidden;text-align: left;background-color: #f0f8ff;}#sk-container-id-1 div.sk-toggleable__content pre {margin: 0.2em;color: black;border-radius: 0.25em;background-color: #f0f8ff;}#sk-container-id-1 input.sk-toggleable__control:checked~div.sk-toggleable__content {max-height: 200px;max-width: 100%;overflow: auto;}#sk-container-id-1 input.sk-toggleable__control:checked~label.sk-toggleable__label-arrow:before {content: \"▾\";}#sk-container-id-1 div.sk-estimator input.sk-toggleable__control:checked~label.sk-toggleable__label {background-color: #d4ebff;}#sk-container-id-1 div.sk-label input.sk-toggleable__control:checked~label.sk-toggleable__label {background-color: #d4ebff;}#sk-container-id-1 input.sk-hidden--visually {border: 0;clip: rect(1px 1px 1px 1px);clip: rect(1px, 1px, 1px, 1px);height: 1px;margin: -1px;overflow: hidden;padding: 0;position: absolute;width: 1px;}#sk-container-id-1 div.sk-estimator {font-family: monospace;background-color: #f0f8ff;border: 1px dotted black;border-radius: 0.25em;box-sizing: border-box;margin-bottom: 0.5em;}#sk-container-id-1 div.sk-estimator:hover {background-color: #d4ebff;}#sk-container-id-1 div.sk-parallel-item::after {content: \"\";width: 100%;border-bottom: 1px solid gray;flex-grow: 1;}#sk-container-id-1 div.sk-label:hover label.sk-toggleable__label {background-color: #d4ebff;}#sk-container-id-1 div.sk-serial::before {content: \"\";position: absolute;border-left: 1px solid gray;box-sizing: border-box;top: 0;bottom: 0;left: 50%;z-index: 0;}#sk-container-id-1 div.sk-serial {display: flex;flex-direction: column;align-items: center;background-color: white;padding-right: 0.2em;padding-left: 0.2em;position: relative;}#sk-container-id-1 div.sk-item {position: relative;z-index: 1;}#sk-container-id-1 div.sk-parallel {display: flex;align-items: stretch;justify-content: center;background-color: white;position: relative;}#sk-container-id-1 div.sk-item::before, #sk-container-id-1 div.sk-parallel-item::before {content: \"\";position: absolute;border-left: 1px solid gray;box-sizing: border-box;top: 0;bottom: 0;left: 50%;z-index: -1;}#sk-container-id-1 div.sk-parallel-item {display: flex;flex-direction: column;z-index: 1;position: relative;background-color: white;}#sk-container-id-1 div.sk-parallel-item:first-child::after {align-self: flex-end;width: 50%;}#sk-container-id-1 div.sk-parallel-item:last-child::after {align-self: flex-start;width: 50%;}#sk-container-id-1 div.sk-parallel-item:only-child::after {width: 0;}#sk-container-id-1 div.sk-dashed-wrapped {border: 1px dashed gray;margin: 0 0.4em 0.5em 0.4em;box-sizing: border-box;padding-bottom: 0.4em;background-color: white;}#sk-container-id-1 div.sk-label label {font-family: monospace;font-weight: bold;display: inline-block;line-height: 1.2em;}#sk-container-id-1 div.sk-label-container {text-align: center;}#sk-container-id-1 div.sk-container {/* jupyter's `normalize.less` sets `[hidden] { display: none; }` but bootstrap.min.css set `[hidden] { display: none !important; }` so we also need the `!important` here to be able to override the default hidden behavior on the sphinx rendered scikit-learn.org. See: https://github.com/scikit-learn/scikit-learn/issues/21755 */display: inline-block !important;position: relative;}#sk-container-id-1 div.sk-text-repr-fallback {display: none;}</style><div id=\"sk-container-id-1\" class=\"sk-top-container\"><div class=\"sk-text-repr-fallback\"><pre>LinearRegression()</pre><b>In a Jupyter environment, please rerun this cell to show the HTML representation or trust the notebook. <br />On GitHub, the HTML representation is unable to render, please try loading this page with nbviewer.org.</b></div><div class=\"sk-container\" hidden><div class=\"sk-item\"><div class=\"sk-estimator sk-toggleable\"><input class=\"sk-toggleable__control sk-hidden--visually\" id=\"sk-estimator-id-1\" type=\"checkbox\" checked><label for=\"sk-estimator-id-1\" class=\"sk-toggleable__label sk-toggleable__label-arrow\">LinearRegression</label><div class=\"sk-toggleable__content\"><pre>LinearRegression()</pre></div></div></div></div></div>"
      ],
      "text/plain": [
       "LinearRegression()"
      ]
     },
     "execution_count": 39,
     "metadata": {},
     "output_type": "execute_result"
    }
   ],
   "source": [
    "from sklearn.linear_model import LinearRegression\n",
    "LR = LinearRegression()\n",
    "LR.fit(X_train,y_train)"
   ]
  },
  {
   "cell_type": "code",
   "execution_count": 40,
   "id": "aa7f3282",
   "metadata": {
    "execution": {
     "iopub.execute_input": "2023-06-01T21:42:04.295482Z",
     "iopub.status.busy": "2023-06-01T21:42:04.294933Z",
     "iopub.status.idle": "2023-06-01T21:42:04.304135Z",
     "shell.execute_reply": "2023-06-01T21:42:04.302443Z"
    },
    "id": "qj3kC2igo_Zz",
    "papermill": {
     "duration": 0.061587,
     "end_time": "2023-06-01T21:42:04.308797",
     "exception": false,
     "start_time": "2023-06-01T21:42:04.247210",
     "status": "completed"
    },
    "tags": []
   },
   "outputs": [],
   "source": [
    "pred = LR.predict(X_test)"
   ]
  },
  {
   "cell_type": "code",
   "execution_count": 41,
   "id": "b25bdf9c",
   "metadata": {
    "execution": {
     "iopub.execute_input": "2023-06-01T21:42:04.423662Z",
     "iopub.status.busy": "2023-06-01T21:42:04.423262Z",
     "iopub.status.idle": "2023-06-01T21:42:04.430872Z",
     "shell.execute_reply": "2023-06-01T21:42:04.429754Z"
    },
    "id": "LMsHIpGNpMp5",
    "outputId": "69f29fc5-ff04-4501-bd53-d22a84e64555",
    "papermill": {
     "duration": 0.068322,
     "end_time": "2023-06-01T21:42:04.433083",
     "exception": false,
     "start_time": "2023-06-01T21:42:04.364761",
     "status": "completed"
    },
    "tags": []
   },
   "outputs": [
    {
     "name": "stdout",
     "output_type": "stream",
     "text": [
      "LineRegression r2_score : 0.7179810046930719\n"
     ]
    }
   ],
   "source": [
    "from sklearn.metrics import r2_score\n",
    "print('LineRegression r2_score :', r2_score(y_test, pred))"
   ]
  },
  {
   "cell_type": "markdown",
   "id": "3dc8e72a",
   "metadata": {
    "papermill": {
     "duration": 0.027184,
     "end_time": "2023-06-01T21:42:04.487646",
     "exception": false,
     "start_time": "2023-06-01T21:42:04.460462",
     "status": "completed"
    },
    "tags": []
   },
   "source": [
    "# 13.SGDRegressor"
   ]
  },
  {
   "cell_type": "code",
   "execution_count": 42,
   "id": "57a8a47d",
   "metadata": {
    "execution": {
     "iopub.execute_input": "2023-06-01T21:42:04.544110Z",
     "iopub.status.busy": "2023-06-01T21:42:04.543224Z",
     "iopub.status.idle": "2023-06-01T21:42:04.590912Z",
     "shell.execute_reply": "2023-06-01T21:42:04.589325Z"
    },
    "id": "ds8hbNjh2hfF",
    "papermill": {
     "duration": 0.080775,
     "end_time": "2023-06-01T21:42:04.595714",
     "exception": false,
     "start_time": "2023-06-01T21:42:04.514939",
     "status": "completed"
    },
    "tags": []
   },
   "outputs": [],
   "source": [
    "from sklearn.metrics import mean_squared_error,r2_score\n",
    "from sklearn.linear_model import LinearRegression, SGDRegressor\n",
    "# Model\n",
    "sgd = SGDRegressor()\n",
    "sgd.fit(X_train, y_train)\n",
    "\n",
    "# Prediction\n",
    "pred2 = sgd.predict(X_test)"
   ]
  },
  {
   "cell_type": "code",
   "execution_count": 43,
   "id": "8428e44f",
   "metadata": {
    "execution": {
     "iopub.execute_input": "2023-06-01T21:42:04.711900Z",
     "iopub.status.busy": "2023-06-01T21:42:04.711449Z",
     "iopub.status.idle": "2023-06-01T21:42:04.719176Z",
     "shell.execute_reply": "2023-06-01T21:42:04.718249Z"
    },
    "id": "L3a2XaGC4UOd",
    "outputId": "35e39ab0-b0bb-47ad-a131-c5eccc8332a8",
    "papermill": {
     "duration": 0.0677,
     "end_time": "2023-06-01T21:42:04.721229",
     "exception": false,
     "start_time": "2023-06-01T21:42:04.653529",
     "status": "completed"
    },
    "tags": []
   },
   "outputs": [
    {
     "name": "stdout",
     "output_type": "stream",
     "text": [
      "MSE = 39722852343.5292\n",
      "R2 =  71.0 %\n"
     ]
    }
   ],
   "source": [
    "from numpy.ma.core import floor\n",
    "# Performance Measure\n",
    "sgd_mse = mean_squared_error(y_test, pred2)\n",
    "sgd_r2 = r2_score(y_test, pred2)\n",
    "\n",
    "print(\"MSE =\",sgd_mse)\n",
    "print(\"R2 = \",floor(sgd_r2*100),\"%\") "
   ]
  },
  {
   "cell_type": "markdown",
   "id": "787414f1",
   "metadata": {
    "papermill": {
     "duration": 0.026731,
     "end_time": "2023-06-01T21:42:04.774644",
     "exception": false,
     "start_time": "2023-06-01T21:42:04.747913",
     "status": "completed"
    },
    "tags": []
   },
   "source": [
    "# 14.Tune model parameters to get high accuracy"
   ]
  },
  {
   "cell_type": "code",
   "execution_count": 44,
   "id": "dc34159c",
   "metadata": {
    "execution": {
     "iopub.execute_input": "2023-06-01T21:42:04.831681Z",
     "iopub.status.busy": "2023-06-01T21:42:04.830571Z",
     "iopub.status.idle": "2023-06-01T21:42:31.031609Z",
     "shell.execute_reply": "2023-06-01T21:42:31.030177Z"
    },
    "id": "91XP__Si98Wf",
    "outputId": "32ef9a8b-e70c-426f-fb59-52e56f44d702",
    "papermill": {
     "duration": 26.233902,
     "end_time": "2023-06-01T21:42:31.036161",
     "exception": false,
     "start_time": "2023-06-01T21:42:04.802259",
     "status": "completed"
    },
    "tags": []
   },
   "outputs": [
    {
     "name": "stderr",
     "output_type": "stream",
     "text": [
      "/opt/conda/lib/python3.10/site-packages/sklearn/linear_model/_stochastic_gradient.py:1548: ConvergenceWarning: Maximum number of iteration reached before convergence. Consider increasing max_iter to improve the fit.\n",
      "  warnings.warn(\n"
     ]
    },
    {
     "name": "stdout",
     "output_type": "stream",
     "text": [
      "{'alpha': 0.0001, 'learning_rate': 'invscaling', 'penalty': 'elasticnet'}\n",
      "Mean squared error = 39616209195.22678\n",
      "R2 = 72 % \n"
     ]
    }
   ],
   "source": [
    "# Import necessary libraries\n",
    "import pandas as pd\n",
    "from sklearn.linear_model import SGDRegressor\n",
    "from sklearn.model_selection import  GridSearchCV\n",
    "# Define the hyperparameters to tune\n",
    "params = {\n",
    "    'learning_rate': ['constant', 'optimal', 'invscaling'],\n",
    "    'penalty': ['l1', 'l2', 'elasticnet'],\n",
    "    'alpha': [0.0001,0.001,0.01,0.1]\n",
    "   \n",
    "}\n",
    "# Use GridSearchCV to tune the hyperparameters\n",
    "grid = GridSearchCV(sgd, params, cv=5)\n",
    "grid.fit(X_train, y_train)\n",
    "\n",
    "# Print the best hyperparameters\n",
    "print(grid.best_params_)\n",
    "\n",
    "# Use the best hyperparameters to train the model\n",
    "sgd = SGDRegressor(**grid.best_params_)\n",
    "sgd.fit(X_train, y_train)\n",
    "\n",
    "# Evaluate the model on the testing set\n",
    "y_pred = sgd.predict(X_test)\n",
    "mse = mean_squared_error(y_test, y_pred)\n",
    "sgd_r3 = r2_score(y_test, y_pred)\n",
    "print(f\"Mean squared error = {mse}\")\n",
    "print(f\"R2 = {round(sgd_r3*100)} % \")"
   ]
  },
  {
   "cell_type": "markdown",
   "id": "86f9d9ad",
   "metadata": {
    "papermill": {
     "duration": 0.054749,
     "end_time": "2023-06-01T21:42:31.149814",
     "exception": false,
     "start_time": "2023-06-01T21:42:31.095065",
     "status": "completed"
    },
    "tags": []
   },
   "source": [
    "# 15.Saving Model And Predict house price "
   ]
  },
  {
   "cell_type": "code",
   "execution_count": 45,
   "id": "dfb13b61",
   "metadata": {
    "execution": {
     "iopub.execute_input": "2023-06-01T21:42:31.208237Z",
     "iopub.status.busy": "2023-06-01T21:42:31.207873Z",
     "iopub.status.idle": "2023-06-01T21:42:31.277532Z",
     "shell.execute_reply": "2023-06-01T21:42:31.276121Z"
    },
    "id": "ejNKfP7L5idV",
    "outputId": "7cfc827d-9c20-4020-c0bd-a50d553a5d65",
    "papermill": {
     "duration": 0.10152,
     "end_time": "2023-06-01T21:42:31.280125",
     "exception": false,
     "start_time": "2023-06-01T21:42:31.178605",
     "status": "completed"
    },
    "tags": []
   },
   "outputs": [
    {
     "name": "stdout",
     "output_type": "stream",
     "text": [
      "The predicted  House Price =  [3.2506419e+09] M\n"
     ]
    }
   ],
   "source": [
    "import pickle\n",
    "from numpy.ma.core import floor\n",
    "# Model\n",
    "sgd = SGDRegressor()\n",
    "sgd.fit(X_train, y_train)\n",
    "\n",
    "# Prediction\n",
    "pickle.dump(sgd,open('model.pkl','wb'))\n",
    "\n",
    "model = pickle.load(open('model.pkl','rb'))\n",
    "# #  bedrooms =4\t    bathrooms=4\t                 sqft_living=3860\t                 sqft_lot=67953\t\n",
    "# \tfloors=2\t\t   waterfront=0\t                 view=2 \t     \t                 condition =4\t\n",
    "# \tgrade=12 \t   sqft_above=3860                sqft_basement=0                   yr_built=1927\t\t\tyr_renovated=0\t   zipcode= 98177 \t                lat=-47.7469 \t                  long= 122.378 \t\n",
    "# \tsqft_living15= 4410    sqft_lot15= 128066              year=2015\t                   month=1\n",
    "\n",
    "x=model.predict([[4\t,2.00,\t1920,\t7803\t,1.0,\t0,\t0,\t3,\t7,\t1080,\t840\t,1962,\t0,\t98155,\t47.7580\t,-122.325\t,1940\t,8147\t,2014\t,12]])*-1\n",
    "print(\"The predicted  House Price = \",x,\"M\")"
   ]
  },
  {
   "cell_type": "code",
   "execution_count": 46,
   "id": "c6190cf9",
   "metadata": {
    "execution": {
     "iopub.execute_input": "2023-06-01T21:42:31.338470Z",
     "iopub.status.busy": "2023-06-01T21:42:31.337469Z",
     "iopub.status.idle": "2023-06-01T21:42:49.393675Z",
     "shell.execute_reply": "2023-06-01T21:42:49.392346Z"
    },
    "id": "RFp94zyeGfCb",
    "outputId": "7c051fd4-e8fe-41b8-ee47-af004327dc57",
    "papermill": {
     "duration": 18.087986,
     "end_time": "2023-06-01T21:42:49.396158",
     "exception": false,
     "start_time": "2023-06-01T21:42:31.308172",
     "status": "completed"
    },
    "tags": []
   },
   "outputs": [
    {
     "name": "stdout",
     "output_type": "stream",
     "text": [
      "87.92054874881013 %\n"
     ]
    }
   ],
   "source": [
    "from sklearn.ensemble import RandomForestRegressor\n",
    "\n",
    "rfg_model = RandomForestRegressor()\n",
    "rfg_model.fit(X_train, y_train)\n",
    "\n",
    "print(rfg_model.score(X_test, y_test)*100,\"%\")"
   ]
  },
  {
   "cell_type": "markdown",
   "id": "c4ed7db4",
   "metadata": {
    "papermill": {
     "duration": 0.027839,
     "end_time": "2023-06-01T21:42:49.452162",
     "exception": false,
     "start_time": "2023-06-01T21:42:49.424323",
     "status": "completed"
    },
    "tags": []
   },
   "source": [
    "# THANKS :)"
   ]
  }
 ],
 "metadata": {
  "kernelspec": {
   "display_name": "Python 3",
   "language": "python",
   "name": "python3"
  },
  "language_info": {
   "codemirror_mode": {
    "name": "ipython",
    "version": 3
   },
   "file_extension": ".py",
   "mimetype": "text/x-python",
   "name": "python",
   "nbconvert_exporter": "python",
   "pygments_lexer": "ipython3",
   "version": "3.10.10"
  },
  "papermill": {
   "default_parameters": {},
   "duration": 67.162125,
   "end_time": "2023-06-01T21:42:50.503477",
   "environment_variables": {},
   "exception": null,
   "input_path": "__notebook__.ipynb",
   "output_path": "__notebook__.ipynb",
   "parameters": {},
   "start_time": "2023-06-01T21:41:43.341352",
   "version": "2.4.0"
  }
 },
 "nbformat": 4,
 "nbformat_minor": 5
}
